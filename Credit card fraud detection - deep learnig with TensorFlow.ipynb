{
 "cells": [
  {
   "cell_type": "markdown",
   "id": "cc5553d5",
   "metadata": {},
   "source": [
    "# Credit Fraud Detection\n",
    "\n",
    "Anonymized credit card transactions labeled as fraudulent or genuine\n",
    "\n",
    "* Source: https://www.kaggle.com/datasets/whenamancodes/fraud-detection\n",
    "\n",
    "## About Data\n",
    "The dataset contains transactions made by credit cards in September 2013 by European cardholders.\n",
    "This dataset presents transactions that occurred in two days, where we have 492 frauds out of 284,807 transactions. The dataset is highly unbalanced, the positive class (frauds) account for 0.172% of all transactions.\n",
    "\n",
    "\n",
    "It contains only numerical input variables which are the result of a PCA transformation. Unfortunately, due to confidentiality issues, we cannot provide the original features and more background information about the data. Features V1, V2, … V28 are the principal components obtained with PCA, the only features which have not been transformed with PCA are 'Time' and 'Amount'. Feature 'Time' contains the seconds elapsed between each transaction and the first transaction in the dataset. The feature 'Amount' is the transaction Amount, this feature can be used for example-dependant cost-sensitive learning. Feature 'Class' is the response variable and it takes value 1 in case of fraud and 0 otherwise.\n",
    "\n",
    "\n",
    "Given the class imbalance ratio, we recommend measuring the accuracy using the Area Under the Precision-Recall Curve (AUPRC). Confusion matrix accuracy is not meaningful for unbalanced classification."
   ]
  },
  {
   "cell_type": "markdown",
   "id": "4b35dc43",
   "metadata": {},
   "source": [
    "# 1. Importing relevant libraries"
   ]
  },
  {
   "cell_type": "code",
   "execution_count": 1,
   "id": "a0e29d9d",
   "metadata": {},
   "outputs": [],
   "source": [
    "import numpy as np\n",
    "import pandas as pd\n",
    "import seaborn as sns\n",
    "from matplotlib import pyplot as plt\n",
    "\n",
    "from collections import Counter\n",
    "\n",
    "sns.set()\n",
    "%matplotlib inline"
   ]
  },
  {
   "cell_type": "markdown",
   "id": "e86a857e",
   "metadata": {},
   "source": [
    "# 2. Loading raw data"
   ]
  },
  {
   "cell_type": "code",
   "execution_count": 2,
   "id": "4de209ae",
   "metadata": {},
   "outputs": [],
   "source": [
    "df_raw = pd.read_csv('creditcard.csv')"
   ]
  },
  {
   "cell_type": "markdown",
   "id": "54608d21",
   "metadata": {},
   "source": [
    "# 3. EDA"
   ]
  },
  {
   "cell_type": "code",
   "execution_count": 3,
   "id": "bf1a9167",
   "metadata": {},
   "outputs": [
    {
     "data": {
      "text/html": [
       "<div>\n",
       "<style scoped>\n",
       "    .dataframe tbody tr th:only-of-type {\n",
       "        vertical-align: middle;\n",
       "    }\n",
       "\n",
       "    .dataframe tbody tr th {\n",
       "        vertical-align: top;\n",
       "    }\n",
       "\n",
       "    .dataframe thead th {\n",
       "        text-align: right;\n",
       "    }\n",
       "</style>\n",
       "<table border=\"1\" class=\"dataframe\">\n",
       "  <thead>\n",
       "    <tr style=\"text-align: right;\">\n",
       "      <th></th>\n",
       "      <th>Time</th>\n",
       "      <th>V1</th>\n",
       "      <th>V2</th>\n",
       "      <th>V3</th>\n",
       "      <th>V4</th>\n",
       "      <th>V5</th>\n",
       "      <th>V6</th>\n",
       "      <th>V7</th>\n",
       "      <th>V8</th>\n",
       "      <th>V9</th>\n",
       "      <th>...</th>\n",
       "      <th>V21</th>\n",
       "      <th>V22</th>\n",
       "      <th>V23</th>\n",
       "      <th>V24</th>\n",
       "      <th>V25</th>\n",
       "      <th>V26</th>\n",
       "      <th>V27</th>\n",
       "      <th>V28</th>\n",
       "      <th>Amount</th>\n",
       "      <th>Class</th>\n",
       "    </tr>\n",
       "  </thead>\n",
       "  <tbody>\n",
       "    <tr>\n",
       "      <th>count</th>\n",
       "      <td>284807.000000</td>\n",
       "      <td>2.848070e+05</td>\n",
       "      <td>2.848070e+05</td>\n",
       "      <td>2.848070e+05</td>\n",
       "      <td>2.848070e+05</td>\n",
       "      <td>2.848070e+05</td>\n",
       "      <td>2.848070e+05</td>\n",
       "      <td>2.848070e+05</td>\n",
       "      <td>2.848070e+05</td>\n",
       "      <td>2.848070e+05</td>\n",
       "      <td>...</td>\n",
       "      <td>2.848070e+05</td>\n",
       "      <td>2.848070e+05</td>\n",
       "      <td>2.848070e+05</td>\n",
       "      <td>2.848070e+05</td>\n",
       "      <td>2.848070e+05</td>\n",
       "      <td>2.848070e+05</td>\n",
       "      <td>2.848070e+05</td>\n",
       "      <td>2.848070e+05</td>\n",
       "      <td>284807.000000</td>\n",
       "      <td>284807.000000</td>\n",
       "    </tr>\n",
       "    <tr>\n",
       "      <th>mean</th>\n",
       "      <td>94813.859575</td>\n",
       "      <td>3.918649e-15</td>\n",
       "      <td>5.682686e-16</td>\n",
       "      <td>-8.761736e-15</td>\n",
       "      <td>2.811118e-15</td>\n",
       "      <td>-1.552103e-15</td>\n",
       "      <td>2.040130e-15</td>\n",
       "      <td>-1.698953e-15</td>\n",
       "      <td>-1.893285e-16</td>\n",
       "      <td>-3.147640e-15</td>\n",
       "      <td>...</td>\n",
       "      <td>1.473120e-16</td>\n",
       "      <td>8.042109e-16</td>\n",
       "      <td>5.282512e-16</td>\n",
       "      <td>4.456271e-15</td>\n",
       "      <td>1.426896e-15</td>\n",
       "      <td>1.701640e-15</td>\n",
       "      <td>-3.662252e-16</td>\n",
       "      <td>-1.217809e-16</td>\n",
       "      <td>88.349619</td>\n",
       "      <td>0.001727</td>\n",
       "    </tr>\n",
       "    <tr>\n",
       "      <th>std</th>\n",
       "      <td>47488.145955</td>\n",
       "      <td>1.958696e+00</td>\n",
       "      <td>1.651309e+00</td>\n",
       "      <td>1.516255e+00</td>\n",
       "      <td>1.415869e+00</td>\n",
       "      <td>1.380247e+00</td>\n",
       "      <td>1.332271e+00</td>\n",
       "      <td>1.237094e+00</td>\n",
       "      <td>1.194353e+00</td>\n",
       "      <td>1.098632e+00</td>\n",
       "      <td>...</td>\n",
       "      <td>7.345240e-01</td>\n",
       "      <td>7.257016e-01</td>\n",
       "      <td>6.244603e-01</td>\n",
       "      <td>6.056471e-01</td>\n",
       "      <td>5.212781e-01</td>\n",
       "      <td>4.822270e-01</td>\n",
       "      <td>4.036325e-01</td>\n",
       "      <td>3.300833e-01</td>\n",
       "      <td>250.120109</td>\n",
       "      <td>0.041527</td>\n",
       "    </tr>\n",
       "    <tr>\n",
       "      <th>min</th>\n",
       "      <td>0.000000</td>\n",
       "      <td>-5.640751e+01</td>\n",
       "      <td>-7.271573e+01</td>\n",
       "      <td>-4.832559e+01</td>\n",
       "      <td>-5.683171e+00</td>\n",
       "      <td>-1.137433e+02</td>\n",
       "      <td>-2.616051e+01</td>\n",
       "      <td>-4.355724e+01</td>\n",
       "      <td>-7.321672e+01</td>\n",
       "      <td>-1.343407e+01</td>\n",
       "      <td>...</td>\n",
       "      <td>-3.483038e+01</td>\n",
       "      <td>-1.093314e+01</td>\n",
       "      <td>-4.480774e+01</td>\n",
       "      <td>-2.836627e+00</td>\n",
       "      <td>-1.029540e+01</td>\n",
       "      <td>-2.604551e+00</td>\n",
       "      <td>-2.256568e+01</td>\n",
       "      <td>-1.543008e+01</td>\n",
       "      <td>0.000000</td>\n",
       "      <td>0.000000</td>\n",
       "    </tr>\n",
       "    <tr>\n",
       "      <th>25%</th>\n",
       "      <td>54201.500000</td>\n",
       "      <td>-9.203734e-01</td>\n",
       "      <td>-5.985499e-01</td>\n",
       "      <td>-8.903648e-01</td>\n",
       "      <td>-8.486401e-01</td>\n",
       "      <td>-6.915971e-01</td>\n",
       "      <td>-7.682956e-01</td>\n",
       "      <td>-5.540759e-01</td>\n",
       "      <td>-2.086297e-01</td>\n",
       "      <td>-6.430976e-01</td>\n",
       "      <td>...</td>\n",
       "      <td>-2.283949e-01</td>\n",
       "      <td>-5.423504e-01</td>\n",
       "      <td>-1.618463e-01</td>\n",
       "      <td>-3.545861e-01</td>\n",
       "      <td>-3.171451e-01</td>\n",
       "      <td>-3.269839e-01</td>\n",
       "      <td>-7.083953e-02</td>\n",
       "      <td>-5.295979e-02</td>\n",
       "      <td>5.600000</td>\n",
       "      <td>0.000000</td>\n",
       "    </tr>\n",
       "    <tr>\n",
       "      <th>50%</th>\n",
       "      <td>84692.000000</td>\n",
       "      <td>1.810880e-02</td>\n",
       "      <td>6.548556e-02</td>\n",
       "      <td>1.798463e-01</td>\n",
       "      <td>-1.984653e-02</td>\n",
       "      <td>-5.433583e-02</td>\n",
       "      <td>-2.741871e-01</td>\n",
       "      <td>4.010308e-02</td>\n",
       "      <td>2.235804e-02</td>\n",
       "      <td>-5.142873e-02</td>\n",
       "      <td>...</td>\n",
       "      <td>-2.945017e-02</td>\n",
       "      <td>6.781943e-03</td>\n",
       "      <td>-1.119293e-02</td>\n",
       "      <td>4.097606e-02</td>\n",
       "      <td>1.659350e-02</td>\n",
       "      <td>-5.213911e-02</td>\n",
       "      <td>1.342146e-03</td>\n",
       "      <td>1.124383e-02</td>\n",
       "      <td>22.000000</td>\n",
       "      <td>0.000000</td>\n",
       "    </tr>\n",
       "    <tr>\n",
       "      <th>75%</th>\n",
       "      <td>139320.500000</td>\n",
       "      <td>1.315642e+00</td>\n",
       "      <td>8.037239e-01</td>\n",
       "      <td>1.027196e+00</td>\n",
       "      <td>7.433413e-01</td>\n",
       "      <td>6.119264e-01</td>\n",
       "      <td>3.985649e-01</td>\n",
       "      <td>5.704361e-01</td>\n",
       "      <td>3.273459e-01</td>\n",
       "      <td>5.971390e-01</td>\n",
       "      <td>...</td>\n",
       "      <td>1.863772e-01</td>\n",
       "      <td>5.285536e-01</td>\n",
       "      <td>1.476421e-01</td>\n",
       "      <td>4.395266e-01</td>\n",
       "      <td>3.507156e-01</td>\n",
       "      <td>2.409522e-01</td>\n",
       "      <td>9.104512e-02</td>\n",
       "      <td>7.827995e-02</td>\n",
       "      <td>77.165000</td>\n",
       "      <td>0.000000</td>\n",
       "    </tr>\n",
       "    <tr>\n",
       "      <th>max</th>\n",
       "      <td>172792.000000</td>\n",
       "      <td>2.454930e+00</td>\n",
       "      <td>2.205773e+01</td>\n",
       "      <td>9.382558e+00</td>\n",
       "      <td>1.687534e+01</td>\n",
       "      <td>3.480167e+01</td>\n",
       "      <td>7.330163e+01</td>\n",
       "      <td>1.205895e+02</td>\n",
       "      <td>2.000721e+01</td>\n",
       "      <td>1.559499e+01</td>\n",
       "      <td>...</td>\n",
       "      <td>2.720284e+01</td>\n",
       "      <td>1.050309e+01</td>\n",
       "      <td>2.252841e+01</td>\n",
       "      <td>4.584549e+00</td>\n",
       "      <td>7.519589e+00</td>\n",
       "      <td>3.517346e+00</td>\n",
       "      <td>3.161220e+01</td>\n",
       "      <td>3.384781e+01</td>\n",
       "      <td>25691.160000</td>\n",
       "      <td>1.000000</td>\n",
       "    </tr>\n",
       "  </tbody>\n",
       "</table>\n",
       "<p>8 rows × 31 columns</p>\n",
       "</div>"
      ],
      "text/plain": [
       "                Time            V1            V2            V3            V4  \\\n",
       "count  284807.000000  2.848070e+05  2.848070e+05  2.848070e+05  2.848070e+05   \n",
       "mean    94813.859575  3.918649e-15  5.682686e-16 -8.761736e-15  2.811118e-15   \n",
       "std     47488.145955  1.958696e+00  1.651309e+00  1.516255e+00  1.415869e+00   \n",
       "min         0.000000 -5.640751e+01 -7.271573e+01 -4.832559e+01 -5.683171e+00   \n",
       "25%     54201.500000 -9.203734e-01 -5.985499e-01 -8.903648e-01 -8.486401e-01   \n",
       "50%     84692.000000  1.810880e-02  6.548556e-02  1.798463e-01 -1.984653e-02   \n",
       "75%    139320.500000  1.315642e+00  8.037239e-01  1.027196e+00  7.433413e-01   \n",
       "max    172792.000000  2.454930e+00  2.205773e+01  9.382558e+00  1.687534e+01   \n",
       "\n",
       "                 V5            V6            V7            V8            V9  \\\n",
       "count  2.848070e+05  2.848070e+05  2.848070e+05  2.848070e+05  2.848070e+05   \n",
       "mean  -1.552103e-15  2.040130e-15 -1.698953e-15 -1.893285e-16 -3.147640e-15   \n",
       "std    1.380247e+00  1.332271e+00  1.237094e+00  1.194353e+00  1.098632e+00   \n",
       "min   -1.137433e+02 -2.616051e+01 -4.355724e+01 -7.321672e+01 -1.343407e+01   \n",
       "25%   -6.915971e-01 -7.682956e-01 -5.540759e-01 -2.086297e-01 -6.430976e-01   \n",
       "50%   -5.433583e-02 -2.741871e-01  4.010308e-02  2.235804e-02 -5.142873e-02   \n",
       "75%    6.119264e-01  3.985649e-01  5.704361e-01  3.273459e-01  5.971390e-01   \n",
       "max    3.480167e+01  7.330163e+01  1.205895e+02  2.000721e+01  1.559499e+01   \n",
       "\n",
       "       ...           V21           V22           V23           V24  \\\n",
       "count  ...  2.848070e+05  2.848070e+05  2.848070e+05  2.848070e+05   \n",
       "mean   ...  1.473120e-16  8.042109e-16  5.282512e-16  4.456271e-15   \n",
       "std    ...  7.345240e-01  7.257016e-01  6.244603e-01  6.056471e-01   \n",
       "min    ... -3.483038e+01 -1.093314e+01 -4.480774e+01 -2.836627e+00   \n",
       "25%    ... -2.283949e-01 -5.423504e-01 -1.618463e-01 -3.545861e-01   \n",
       "50%    ... -2.945017e-02  6.781943e-03 -1.119293e-02  4.097606e-02   \n",
       "75%    ...  1.863772e-01  5.285536e-01  1.476421e-01  4.395266e-01   \n",
       "max    ...  2.720284e+01  1.050309e+01  2.252841e+01  4.584549e+00   \n",
       "\n",
       "                V25           V26           V27           V28         Amount  \\\n",
       "count  2.848070e+05  2.848070e+05  2.848070e+05  2.848070e+05  284807.000000   \n",
       "mean   1.426896e-15  1.701640e-15 -3.662252e-16 -1.217809e-16      88.349619   \n",
       "std    5.212781e-01  4.822270e-01  4.036325e-01  3.300833e-01     250.120109   \n",
       "min   -1.029540e+01 -2.604551e+00 -2.256568e+01 -1.543008e+01       0.000000   \n",
       "25%   -3.171451e-01 -3.269839e-01 -7.083953e-02 -5.295979e-02       5.600000   \n",
       "50%    1.659350e-02 -5.213911e-02  1.342146e-03  1.124383e-02      22.000000   \n",
       "75%    3.507156e-01  2.409522e-01  9.104512e-02  7.827995e-02      77.165000   \n",
       "max    7.519589e+00  3.517346e+00  3.161220e+01  3.384781e+01   25691.160000   \n",
       "\n",
       "               Class  \n",
       "count  284807.000000  \n",
       "mean        0.001727  \n",
       "std         0.041527  \n",
       "min         0.000000  \n",
       "25%         0.000000  \n",
       "50%         0.000000  \n",
       "75%         0.000000  \n",
       "max         1.000000  \n",
       "\n",
       "[8 rows x 31 columns]"
      ]
     },
     "execution_count": 3,
     "metadata": {},
     "output_type": "execute_result"
    }
   ],
   "source": [
    "df_raw.describe(include='all')"
   ]
  },
  {
   "cell_type": "code",
   "execution_count": 4,
   "id": "9d6e7645",
   "metadata": {},
   "outputs": [],
   "source": [
    "# Feature 'Time' contains the seconds elapsed between each transaction and the first transaction in the dataset. \n",
    "# It looks like unimportant. We'll drop that.\n",
    "\n",
    "df=df_raw.drop(['Time'], axis=1)"
   ]
  },
  {
   "cell_type": "code",
   "execution_count": 5,
   "id": "f3ddde6e",
   "metadata": {},
   "outputs": [
    {
     "data": {
      "text/html": [
       "<div>\n",
       "<style scoped>\n",
       "    .dataframe tbody tr th:only-of-type {\n",
       "        vertical-align: middle;\n",
       "    }\n",
       "\n",
       "    .dataframe tbody tr th {\n",
       "        vertical-align: top;\n",
       "    }\n",
       "\n",
       "    .dataframe thead th {\n",
       "        text-align: right;\n",
       "    }\n",
       "</style>\n",
       "<table border=\"1\" class=\"dataframe\">\n",
       "  <thead>\n",
       "    <tr style=\"text-align: right;\">\n",
       "      <th></th>\n",
       "      <th>V1</th>\n",
       "      <th>V2</th>\n",
       "      <th>V3</th>\n",
       "      <th>V4</th>\n",
       "      <th>V5</th>\n",
       "      <th>V6</th>\n",
       "      <th>V7</th>\n",
       "      <th>V8</th>\n",
       "      <th>V9</th>\n",
       "      <th>V10</th>\n",
       "      <th>...</th>\n",
       "      <th>V21</th>\n",
       "      <th>V22</th>\n",
       "      <th>V23</th>\n",
       "      <th>V24</th>\n",
       "      <th>V25</th>\n",
       "      <th>V26</th>\n",
       "      <th>V27</th>\n",
       "      <th>V28</th>\n",
       "      <th>Amount</th>\n",
       "      <th>Class</th>\n",
       "    </tr>\n",
       "  </thead>\n",
       "  <tbody>\n",
       "    <tr>\n",
       "      <th>0</th>\n",
       "      <td>-1.359807</td>\n",
       "      <td>-0.072781</td>\n",
       "      <td>2.536347</td>\n",
       "      <td>1.378155</td>\n",
       "      <td>-0.338321</td>\n",
       "      <td>0.462388</td>\n",
       "      <td>0.239599</td>\n",
       "      <td>0.098698</td>\n",
       "      <td>0.363787</td>\n",
       "      <td>0.090794</td>\n",
       "      <td>...</td>\n",
       "      <td>-0.018307</td>\n",
       "      <td>0.277838</td>\n",
       "      <td>-0.110474</td>\n",
       "      <td>0.066928</td>\n",
       "      <td>0.128539</td>\n",
       "      <td>-0.189115</td>\n",
       "      <td>0.133558</td>\n",
       "      <td>-0.021053</td>\n",
       "      <td>149.62</td>\n",
       "      <td>0</td>\n",
       "    </tr>\n",
       "    <tr>\n",
       "      <th>1</th>\n",
       "      <td>1.191857</td>\n",
       "      <td>0.266151</td>\n",
       "      <td>0.166480</td>\n",
       "      <td>0.448154</td>\n",
       "      <td>0.060018</td>\n",
       "      <td>-0.082361</td>\n",
       "      <td>-0.078803</td>\n",
       "      <td>0.085102</td>\n",
       "      <td>-0.255425</td>\n",
       "      <td>-0.166974</td>\n",
       "      <td>...</td>\n",
       "      <td>-0.225775</td>\n",
       "      <td>-0.638672</td>\n",
       "      <td>0.101288</td>\n",
       "      <td>-0.339846</td>\n",
       "      <td>0.167170</td>\n",
       "      <td>0.125895</td>\n",
       "      <td>-0.008983</td>\n",
       "      <td>0.014724</td>\n",
       "      <td>2.69</td>\n",
       "      <td>0</td>\n",
       "    </tr>\n",
       "    <tr>\n",
       "      <th>2</th>\n",
       "      <td>-1.358354</td>\n",
       "      <td>-1.340163</td>\n",
       "      <td>1.773209</td>\n",
       "      <td>0.379780</td>\n",
       "      <td>-0.503198</td>\n",
       "      <td>1.800499</td>\n",
       "      <td>0.791461</td>\n",
       "      <td>0.247676</td>\n",
       "      <td>-1.514654</td>\n",
       "      <td>0.207643</td>\n",
       "      <td>...</td>\n",
       "      <td>0.247998</td>\n",
       "      <td>0.771679</td>\n",
       "      <td>0.909412</td>\n",
       "      <td>-0.689281</td>\n",
       "      <td>-0.327642</td>\n",
       "      <td>-0.139097</td>\n",
       "      <td>-0.055353</td>\n",
       "      <td>-0.059752</td>\n",
       "      <td>378.66</td>\n",
       "      <td>0</td>\n",
       "    </tr>\n",
       "    <tr>\n",
       "      <th>3</th>\n",
       "      <td>-0.966272</td>\n",
       "      <td>-0.185226</td>\n",
       "      <td>1.792993</td>\n",
       "      <td>-0.863291</td>\n",
       "      <td>-0.010309</td>\n",
       "      <td>1.247203</td>\n",
       "      <td>0.237609</td>\n",
       "      <td>0.377436</td>\n",
       "      <td>-1.387024</td>\n",
       "      <td>-0.054952</td>\n",
       "      <td>...</td>\n",
       "      <td>-0.108300</td>\n",
       "      <td>0.005274</td>\n",
       "      <td>-0.190321</td>\n",
       "      <td>-1.175575</td>\n",
       "      <td>0.647376</td>\n",
       "      <td>-0.221929</td>\n",
       "      <td>0.062723</td>\n",
       "      <td>0.061458</td>\n",
       "      <td>123.50</td>\n",
       "      <td>0</td>\n",
       "    </tr>\n",
       "    <tr>\n",
       "      <th>4</th>\n",
       "      <td>-1.158233</td>\n",
       "      <td>0.877737</td>\n",
       "      <td>1.548718</td>\n",
       "      <td>0.403034</td>\n",
       "      <td>-0.407193</td>\n",
       "      <td>0.095921</td>\n",
       "      <td>0.592941</td>\n",
       "      <td>-0.270533</td>\n",
       "      <td>0.817739</td>\n",
       "      <td>0.753074</td>\n",
       "      <td>...</td>\n",
       "      <td>-0.009431</td>\n",
       "      <td>0.798278</td>\n",
       "      <td>-0.137458</td>\n",
       "      <td>0.141267</td>\n",
       "      <td>-0.206010</td>\n",
       "      <td>0.502292</td>\n",
       "      <td>0.219422</td>\n",
       "      <td>0.215153</td>\n",
       "      <td>69.99</td>\n",
       "      <td>0</td>\n",
       "    </tr>\n",
       "    <tr>\n",
       "      <th>5</th>\n",
       "      <td>-0.425966</td>\n",
       "      <td>0.960523</td>\n",
       "      <td>1.141109</td>\n",
       "      <td>-0.168252</td>\n",
       "      <td>0.420987</td>\n",
       "      <td>-0.029728</td>\n",
       "      <td>0.476201</td>\n",
       "      <td>0.260314</td>\n",
       "      <td>-0.568671</td>\n",
       "      <td>-0.371407</td>\n",
       "      <td>...</td>\n",
       "      <td>-0.208254</td>\n",
       "      <td>-0.559825</td>\n",
       "      <td>-0.026398</td>\n",
       "      <td>-0.371427</td>\n",
       "      <td>-0.232794</td>\n",
       "      <td>0.105915</td>\n",
       "      <td>0.253844</td>\n",
       "      <td>0.081080</td>\n",
       "      <td>3.67</td>\n",
       "      <td>0</td>\n",
       "    </tr>\n",
       "    <tr>\n",
       "      <th>6</th>\n",
       "      <td>1.229658</td>\n",
       "      <td>0.141004</td>\n",
       "      <td>0.045371</td>\n",
       "      <td>1.202613</td>\n",
       "      <td>0.191881</td>\n",
       "      <td>0.272708</td>\n",
       "      <td>-0.005159</td>\n",
       "      <td>0.081213</td>\n",
       "      <td>0.464960</td>\n",
       "      <td>-0.099254</td>\n",
       "      <td>...</td>\n",
       "      <td>-0.167716</td>\n",
       "      <td>-0.270710</td>\n",
       "      <td>-0.154104</td>\n",
       "      <td>-0.780055</td>\n",
       "      <td>0.750137</td>\n",
       "      <td>-0.257237</td>\n",
       "      <td>0.034507</td>\n",
       "      <td>0.005168</td>\n",
       "      <td>4.99</td>\n",
       "      <td>0</td>\n",
       "    </tr>\n",
       "    <tr>\n",
       "      <th>7</th>\n",
       "      <td>-0.644269</td>\n",
       "      <td>1.417964</td>\n",
       "      <td>1.074380</td>\n",
       "      <td>-0.492199</td>\n",
       "      <td>0.948934</td>\n",
       "      <td>0.428118</td>\n",
       "      <td>1.120631</td>\n",
       "      <td>-3.807864</td>\n",
       "      <td>0.615375</td>\n",
       "      <td>1.249376</td>\n",
       "      <td>...</td>\n",
       "      <td>1.943465</td>\n",
       "      <td>-1.015455</td>\n",
       "      <td>0.057504</td>\n",
       "      <td>-0.649709</td>\n",
       "      <td>-0.415267</td>\n",
       "      <td>-0.051634</td>\n",
       "      <td>-1.206921</td>\n",
       "      <td>-1.085339</td>\n",
       "      <td>40.80</td>\n",
       "      <td>0</td>\n",
       "    </tr>\n",
       "    <tr>\n",
       "      <th>8</th>\n",
       "      <td>-0.894286</td>\n",
       "      <td>0.286157</td>\n",
       "      <td>-0.113192</td>\n",
       "      <td>-0.271526</td>\n",
       "      <td>2.669599</td>\n",
       "      <td>3.721818</td>\n",
       "      <td>0.370145</td>\n",
       "      <td>0.851084</td>\n",
       "      <td>-0.392048</td>\n",
       "      <td>-0.410430</td>\n",
       "      <td>...</td>\n",
       "      <td>-0.073425</td>\n",
       "      <td>-0.268092</td>\n",
       "      <td>-0.204233</td>\n",
       "      <td>1.011592</td>\n",
       "      <td>0.373205</td>\n",
       "      <td>-0.384157</td>\n",
       "      <td>0.011747</td>\n",
       "      <td>0.142404</td>\n",
       "      <td>93.20</td>\n",
       "      <td>0</td>\n",
       "    </tr>\n",
       "    <tr>\n",
       "      <th>9</th>\n",
       "      <td>-0.338262</td>\n",
       "      <td>1.119593</td>\n",
       "      <td>1.044367</td>\n",
       "      <td>-0.222187</td>\n",
       "      <td>0.499361</td>\n",
       "      <td>-0.246761</td>\n",
       "      <td>0.651583</td>\n",
       "      <td>0.069539</td>\n",
       "      <td>-0.736727</td>\n",
       "      <td>-0.366846</td>\n",
       "      <td>...</td>\n",
       "      <td>-0.246914</td>\n",
       "      <td>-0.633753</td>\n",
       "      <td>-0.120794</td>\n",
       "      <td>-0.385050</td>\n",
       "      <td>-0.069733</td>\n",
       "      <td>0.094199</td>\n",
       "      <td>0.246219</td>\n",
       "      <td>0.083076</td>\n",
       "      <td>3.68</td>\n",
       "      <td>0</td>\n",
       "    </tr>\n",
       "  </tbody>\n",
       "</table>\n",
       "<p>10 rows × 30 columns</p>\n",
       "</div>"
      ],
      "text/plain": [
       "         V1        V2        V3        V4        V5        V6        V7  \\\n",
       "0 -1.359807 -0.072781  2.536347  1.378155 -0.338321  0.462388  0.239599   \n",
       "1  1.191857  0.266151  0.166480  0.448154  0.060018 -0.082361 -0.078803   \n",
       "2 -1.358354 -1.340163  1.773209  0.379780 -0.503198  1.800499  0.791461   \n",
       "3 -0.966272 -0.185226  1.792993 -0.863291 -0.010309  1.247203  0.237609   \n",
       "4 -1.158233  0.877737  1.548718  0.403034 -0.407193  0.095921  0.592941   \n",
       "5 -0.425966  0.960523  1.141109 -0.168252  0.420987 -0.029728  0.476201   \n",
       "6  1.229658  0.141004  0.045371  1.202613  0.191881  0.272708 -0.005159   \n",
       "7 -0.644269  1.417964  1.074380 -0.492199  0.948934  0.428118  1.120631   \n",
       "8 -0.894286  0.286157 -0.113192 -0.271526  2.669599  3.721818  0.370145   \n",
       "9 -0.338262  1.119593  1.044367 -0.222187  0.499361 -0.246761  0.651583   \n",
       "\n",
       "         V8        V9       V10  ...       V21       V22       V23       V24  \\\n",
       "0  0.098698  0.363787  0.090794  ... -0.018307  0.277838 -0.110474  0.066928   \n",
       "1  0.085102 -0.255425 -0.166974  ... -0.225775 -0.638672  0.101288 -0.339846   \n",
       "2  0.247676 -1.514654  0.207643  ...  0.247998  0.771679  0.909412 -0.689281   \n",
       "3  0.377436 -1.387024 -0.054952  ... -0.108300  0.005274 -0.190321 -1.175575   \n",
       "4 -0.270533  0.817739  0.753074  ... -0.009431  0.798278 -0.137458  0.141267   \n",
       "5  0.260314 -0.568671 -0.371407  ... -0.208254 -0.559825 -0.026398 -0.371427   \n",
       "6  0.081213  0.464960 -0.099254  ... -0.167716 -0.270710 -0.154104 -0.780055   \n",
       "7 -3.807864  0.615375  1.249376  ...  1.943465 -1.015455  0.057504 -0.649709   \n",
       "8  0.851084 -0.392048 -0.410430  ... -0.073425 -0.268092 -0.204233  1.011592   \n",
       "9  0.069539 -0.736727 -0.366846  ... -0.246914 -0.633753 -0.120794 -0.385050   \n",
       "\n",
       "        V25       V26       V27       V28  Amount  Class  \n",
       "0  0.128539 -0.189115  0.133558 -0.021053  149.62      0  \n",
       "1  0.167170  0.125895 -0.008983  0.014724    2.69      0  \n",
       "2 -0.327642 -0.139097 -0.055353 -0.059752  378.66      0  \n",
       "3  0.647376 -0.221929  0.062723  0.061458  123.50      0  \n",
       "4 -0.206010  0.502292  0.219422  0.215153   69.99      0  \n",
       "5 -0.232794  0.105915  0.253844  0.081080    3.67      0  \n",
       "6  0.750137 -0.257237  0.034507  0.005168    4.99      0  \n",
       "7 -0.415267 -0.051634 -1.206921 -1.085339   40.80      0  \n",
       "8  0.373205 -0.384157  0.011747  0.142404   93.20      0  \n",
       "9 -0.069733  0.094199  0.246219  0.083076    3.68      0  \n",
       "\n",
       "[10 rows x 30 columns]"
      ]
     },
     "execution_count": 5,
     "metadata": {},
     "output_type": "execute_result"
    }
   ],
   "source": [
    "df.head(10)"
   ]
  },
  {
   "cell_type": "code",
   "execution_count": 6,
   "id": "0552e50c",
   "metadata": {},
   "outputs": [
    {
     "data": {
      "text/plain": [
       "(284807, 30)"
      ]
     },
     "execution_count": 6,
     "metadata": {},
     "output_type": "execute_result"
    }
   ],
   "source": [
    "df.shape"
   ]
  },
  {
   "cell_type": "code",
   "execution_count": 7,
   "id": "8d70467e",
   "metadata": {},
   "outputs": [
    {
     "data": {
      "text/plain": [
       "V1        0\n",
       "V2        0\n",
       "V3        0\n",
       "V4        0\n",
       "V5        0\n",
       "V6        0\n",
       "V7        0\n",
       "V8        0\n",
       "V9        0\n",
       "V10       0\n",
       "V11       0\n",
       "V12       0\n",
       "V13       0\n",
       "V14       0\n",
       "V15       0\n",
       "V16       0\n",
       "V17       0\n",
       "V18       0\n",
       "V19       0\n",
       "V20       0\n",
       "V21       0\n",
       "V22       0\n",
       "V23       0\n",
       "V24       0\n",
       "V25       0\n",
       "V26       0\n",
       "V27       0\n",
       "V28       0\n",
       "Amount    0\n",
       "Class     0\n",
       "dtype: int64"
      ]
     },
     "execution_count": 7,
     "metadata": {},
     "output_type": "execute_result"
    }
   ],
   "source": [
    "df.isnull().sum()"
   ]
  },
  {
   "cell_type": "code",
   "execution_count": 8,
   "id": "d6e02d16",
   "metadata": {},
   "outputs": [],
   "source": [
    "# We have no null values"
   ]
  },
  {
   "cell_type": "code",
   "execution_count": 9,
   "id": "603862fc",
   "metadata": {},
   "outputs": [
    {
     "name": "stdout",
     "output_type": "stream",
     "text": [
      "<class 'pandas.core.frame.DataFrame'>\n",
      "RangeIndex: 284807 entries, 0 to 284806\n",
      "Data columns (total 30 columns):\n",
      " #   Column  Non-Null Count   Dtype  \n",
      "---  ------  --------------   -----  \n",
      " 0   V1      284807 non-null  float64\n",
      " 1   V2      284807 non-null  float64\n",
      " 2   V3      284807 non-null  float64\n",
      " 3   V4      284807 non-null  float64\n",
      " 4   V5      284807 non-null  float64\n",
      " 5   V6      284807 non-null  float64\n",
      " 6   V7      284807 non-null  float64\n",
      " 7   V8      284807 non-null  float64\n",
      " 8   V9      284807 non-null  float64\n",
      " 9   V10     284807 non-null  float64\n",
      " 10  V11     284807 non-null  float64\n",
      " 11  V12     284807 non-null  float64\n",
      " 12  V13     284807 non-null  float64\n",
      " 13  V14     284807 non-null  float64\n",
      " 14  V15     284807 non-null  float64\n",
      " 15  V16     284807 non-null  float64\n",
      " 16  V17     284807 non-null  float64\n",
      " 17  V18     284807 non-null  float64\n",
      " 18  V19     284807 non-null  float64\n",
      " 19  V20     284807 non-null  float64\n",
      " 20  V21     284807 non-null  float64\n",
      " 21  V22     284807 non-null  float64\n",
      " 22  V23     284807 non-null  float64\n",
      " 23  V24     284807 non-null  float64\n",
      " 24  V25     284807 non-null  float64\n",
      " 25  V26     284807 non-null  float64\n",
      " 26  V27     284807 non-null  float64\n",
      " 27  V28     284807 non-null  float64\n",
      " 28  Amount  284807 non-null  float64\n",
      " 29  Class   284807 non-null  int64  \n",
      "dtypes: float64(29), int64(1)\n",
      "memory usage: 65.2 MB\n"
     ]
    }
   ],
   "source": [
    "df.info()"
   ]
  },
  {
   "cell_type": "code",
   "execution_count": 10,
   "id": "077dc370",
   "metadata": {},
   "outputs": [],
   "source": [
    "# All categories are numerical (except target 'Class' which is boolean)"
   ]
  },
  {
   "cell_type": "code",
   "execution_count": 11,
   "id": "fc5b8a69",
   "metadata": {},
   "outputs": [
    {
     "data": {
      "text/plain": [
       "492"
      ]
     },
     "execution_count": 11,
     "metadata": {},
     "output_type": "execute_result"
    }
   ],
   "source": [
    "len(df[df['Class'] == 1])"
   ]
  },
  {
   "cell_type": "code",
   "execution_count": 12,
   "id": "4e06e5dc",
   "metadata": {},
   "outputs": [
    {
     "data": {
      "text/plain": [
       "284315"
      ]
     },
     "execution_count": 12,
     "metadata": {},
     "output_type": "execute_result"
    }
   ],
   "source": [
    "len(df[df['Class'] == 0])"
   ]
  },
  {
   "cell_type": "code",
   "execution_count": 13,
   "id": "d10534dd",
   "metadata": {},
   "outputs": [],
   "source": [
    "# There is a huge disproportion in data. Only 0,17% is a fraud data."
   ]
  },
  {
   "cell_type": "code",
   "execution_count": 14,
   "id": "941c5429",
   "metadata": {},
   "outputs": [
    {
     "data": {
      "image/png": "[encoded data removed]",
      "text/plain": [
       "<Figure size 432x288 with 1 Axes>"
      ]
     },
     "metadata": {
      "needs_background": "light"
     },
     "output_type": "display_data"
    }
   ],
   "source": [
    "ax = sns.countplot(x='Class',data=df)\n",
    "total = float(len(df))\n",
    "for p in ax.patches:\n",
    "    percentage=\"{:.2f}%\".format(100 * p.get_height()/total)\n",
    "    x = p.get_x() + p.get_width()\n",
    "    y = p.get_height()\n",
    "    ax.annotate(percentage, (x, y),ha=\"center\")\n",
    "plt.show()"
   ]
  },
  {
   "cell_type": "markdown",
   "id": "11d4de7b",
   "metadata": {},
   "source": [
    "## Correlations and most important features"
   ]
  },
  {
   "cell_type": "code",
   "execution_count": 15,
   "id": "3332bfc7",
   "metadata": {
    "scrolled": true
   },
   "outputs": [
    {
     "data": {
      "text/plain": [
       "V17      -0.326481\n",
       "V14      -0.302544\n",
       "V12      -0.260593\n",
       "V10      -0.216883\n",
       "V16      -0.196539\n",
       "V3       -0.192961\n",
       "V7       -0.187257\n",
       "V18      -0.111485\n",
       "V1       -0.101347\n",
       "V9       -0.097733\n",
       "V5       -0.094974\n",
       "V6       -0.043643\n",
       "V24      -0.007221\n",
       "V13      -0.004570\n",
       "V15      -0.004223\n",
       "V23      -0.002685\n",
       "V22       0.000805\n",
       "V25       0.003308\n",
       "V26       0.004455\n",
       "Amount    0.005632\n",
       "V28       0.009536\n",
       "V27       0.017580\n",
       "V8        0.019875\n",
       "V20       0.020090\n",
       "V19       0.034783\n",
       "V21       0.040413\n",
       "V2        0.091289\n",
       "V4        0.133447\n",
       "V11       0.154876\n",
       "Class     1.000000\n",
       "Name: Class, dtype: float64"
      ]
     },
     "execution_count": 15,
     "metadata": {},
     "output_type": "execute_result"
    }
   ],
   "source": [
    "df.corr()['Class'].sort_values()"
   ]
  },
  {
   "cell_type": "code",
   "execution_count": 16,
   "id": "f4588d35",
   "metadata": {},
   "outputs": [
    {
     "data": {
      "image/png": "[encoded data removed]",
      "text/plain": [
       "<Figure size 1080x576 with 1 Axes>"
      ]
     },
     "metadata": {
      "needs_background": "light"
     },
     "output_type": "display_data"
    }
   ],
   "source": [
    "plt.figure(figsize=(15,8))\n",
    "d = df.corr()['Class'][:-1].abs().sort_values().plot(kind='bar', title='Most important features')\n",
    "\n",
    "plt.show()"
   ]
  },
  {
   "cell_type": "code",
   "execution_count": 17,
   "id": "0987c682",
   "metadata": {},
   "outputs": [
    {
     "name": "stdout",
     "output_type": "stream",
     "text": [
      "V1        False\n",
      "V2        False\n",
      "V3         True\n",
      "V4        False\n",
      "V5        False\n",
      "V6        False\n",
      "V7         True\n",
      "V8        False\n",
      "V9        False\n",
      "V10        True\n",
      "V11        True\n",
      "V12        True\n",
      "V13       False\n",
      "V14        True\n",
      "V15       False\n",
      "V16        True\n",
      "V17        True\n",
      "V18       False\n",
      "V19       False\n",
      "V20       False\n",
      "V21       False\n",
      "V22       False\n",
      "V23       False\n",
      "V24       False\n",
      "V25       False\n",
      "V26       False\n",
      "V27       False\n",
      "V28       False\n",
      "Amount    False\n",
      "Name: Class, dtype: bool\n"
     ]
    }
   ],
   "source": [
    "# Let's peak all features with correlation 0.15 and morec = \n",
    "\n",
    "c = df.corr()['Class'][:-1].abs() > 0.15\n",
    "\n",
    "print (c)"
   ]
  },
  {
   "cell_type": "code",
   "execution_count": 18,
   "id": "fa011b80",
   "metadata": {},
   "outputs": [
    {
     "data": {
      "text/plain": [
       "<seaborn.axisgrid.JointGrid at 0x1f44a86bf70>"
      ]
     },
     "execution_count": 18,
     "metadata": {},
     "output_type": "execute_result"
    },
    {
     "data": {
      "image/png": "[encoded data removed]",
      "text/plain": [
       "<Figure size 432x432 with 3 Axes>"
      ]
     },
     "metadata": {
      "needs_background": "light"
     },
     "output_type": "display_data"
    }
   ],
   "source": [
    "sns.jointplot(x='V17', y='V14',hue='Class', data=df, palette = 'dark')"
   ]
  },
  {
   "cell_type": "code",
   "execution_count": 19,
   "id": "b1d48281",
   "metadata": {},
   "outputs": [
    {
     "data": {
      "text/plain": [
       "<seaborn.axisgrid.JointGrid at 0x1f44af4e250>"
      ]
     },
     "execution_count": 19,
     "metadata": {},
     "output_type": "execute_result"
    },
    {
     "data": {
      "image/png": "[encoded data removed]",
      "text/plain": [
       "<Figure size 432x432 with 3 Axes>"
      ]
     },
     "metadata": {
      "needs_background": "light"
     },
     "output_type": "display_data"
    }
   ],
   "source": [
    "sns.jointplot(x='V17', y='V12',hue='Class', data=df, palette = 'dark')"
   ]
  },
  {
   "cell_type": "code",
   "execution_count": 20,
   "id": "6fca7c6a",
   "metadata": {},
   "outputs": [
    {
     "data": {
      "text/plain": [
       "<seaborn.axisgrid.JointGrid at 0x1f44b024730>"
      ]
     },
     "execution_count": 20,
     "metadata": {},
     "output_type": "execute_result"
    },
    {
     "data": {
      "image/png": "[encoded data removed]",
      "text/plain": [
       "<Figure size 432x432 with 3 Axes>"
      ]
     },
     "metadata": {
      "needs_background": "light"
     },
     "output_type": "display_data"
    }
   ],
   "source": [
    "sns.jointplot(x='V17', y='V10',hue='Class', data=df, palette = 'dark')"
   ]
  },
  {
   "cell_type": "code",
   "execution_count": 21,
   "id": "e201bf96",
   "metadata": {},
   "outputs": [
    {
     "data": {
      "text/plain": [
       "<seaborn.axisgrid.JointGrid at 0x1f44af4ec70>"
      ]
     },
     "execution_count": 21,
     "metadata": {},
     "output_type": "execute_result"
    },
    {
     "data": {
      "image/png": "[encoded data removed]",
      "text/plain": [
       "<Figure size 432x432 with 3 Axes>"
      ]
     },
     "metadata": {
      "needs_background": "light"
     },
     "output_type": "display_data"
    }
   ],
   "source": [
    "sns.jointplot(x='V14', y='V12',hue='Class', data=df, palette = 'dark')"
   ]
  },
  {
   "cell_type": "markdown",
   "id": "6b93c00e",
   "metadata": {},
   "source": [
    "# 4. Feature engineering"
   ]
  },
  {
   "cell_type": "markdown",
   "id": "ae852c13",
   "metadata": {},
   "source": [
    "## Outlier detection"
   ]
  },
  {
   "cell_type": "markdown",
   "id": "a19a7041",
   "metadata": {},
   "source": [
    "Let's check the distribution of the features with 0,13 and higher and correlation"
   ]
  },
  {
   "cell_type": "code",
   "execution_count": 22,
   "id": "1fa284fc",
   "metadata": {},
   "outputs": [
    {
     "data": {
      "image/png": "[encoded data removed]",
      "text/plain": [
       "<Figure size 936x576 with 9 Axes>"
      ]
     },
     "metadata": {
      "needs_background": "light"
     },
     "output_type": "display_data"
    }
   ],
   "source": [
    "fig, axes = plt.subplots(nrows=3, ncols=3,figsize=(13,8))\n",
    "\n",
    "axes[0,0].hist(df['V17'], bins=60, linewidth=0.5, edgecolor=\"white\")\n",
    "axes[0,0].set_title(\"V17 distribution\");\n",
    "\n",
    "axes[0,1].hist(df['V10'], bins=60, linewidth=0.5, edgecolor=\"white\")\n",
    "axes[0,1].set_title(\"V10 distribution\");\n",
    "\n",
    "axes[0,2].hist(df['V12'], bins=60, linewidth=0.5, edgecolor=\"white\")\n",
    "axes[0,2].set_title(\"V12 distribution\");\n",
    "\n",
    "axes[1,0].hist(df['V16'], bins=60, linewidth=0.5, edgecolor=\"white\")\n",
    "axes[1,0].set_title(\"V16 distribution\");\n",
    "\n",
    "axes[1,1].hist(df['V14'], bins=60, linewidth=0.5, edgecolor=\"white\")\n",
    "axes[1,1].set_title(\"V14 distribution\");\n",
    "\n",
    "axes[1,2].hist(df['V3'], bins=60, linewidth=0.5, edgecolor=\"white\")\n",
    "axes[1,2].set_title(\"V3 distribution\");\n",
    "\n",
    "axes[2,0].hist(df['V7'], bins=60, linewidth=0.5, edgecolor=\"white\")\n",
    "axes[2,0].set_title(\"V7 distribution\");\n",
    "\n",
    "axes[2,1].hist(df['V11'], bins=60, linewidth=0.5, edgecolor=\"white\")\n",
    "axes[2,1].set_title(\"V11 distribution\");\n",
    "\n",
    "axes[2,2].hist(df['V4'], bins=60, linewidth=0.5, edgecolor=\"white\")\n",
    "axes[2,2].set_title(\"V4 distribution\");\n",
    "\n",
    "plt.tight_layout()"
   ]
  },
  {
   "cell_type": "markdown",
   "id": "c5b7b8f0",
   "metadata": {},
   "source": [
    "It looks like we have a lot of outliers here. We can try to get rid of them."
   ]
  },
  {
   "cell_type": "markdown",
   "id": "d0a4e92d",
   "metadata": {},
   "source": [
    "## Tukey's IQR method\n",
    "\n",
    "Tukey’s  (1977)  technique  is  used  to  detect  outliers  in  univariate  distributions  for symmetric as well as in slightly skewed data sets. The general rule is that anything not in the range of (Q1 - 1.5 IQR) and (Q3 + 1.5 IQR) is an outlier, and can be removed. "
   ]
  },
  {
   "cell_type": "code",
   "execution_count": 23,
   "id": "54478bed",
   "metadata": {},
   "outputs": [],
   "source": [
    "def detect_outliers(df,n,features):\n",
    "    \"\"\"\n",
    "    Takes a dataframe df of features and returns an index list corresponding to the observations \n",
    "    containing more than n outliers according to the Tukey IQR method.\n",
    "    \"\"\"\n",
    "    outlier_indices = []\n",
    "    \n",
    "    # iterating over features(columns)\n",
    "    for col in features:\n",
    "        # 1st quartile (25%)\n",
    "        Q1 = np.percentile(df[col], 25)\n",
    "        # 3rd quartile (75%)\n",
    "        Q3 = np.percentile(df[col],75)\n",
    "        # Interquartile range (IQR)\n",
    "        IQR = Q3 - Q1\n",
    "        \n",
    "        # outlier step\n",
    "        outlier_step = 1.5 * IQR\n",
    "        \n",
    "        # Determining a list of indices of outliers for feature col\n",
    "        outlier_list_col = df[(df[col] < Q1 - outlier_step) | (df[col] > Q3 + outlier_step )].index\n",
    "        \n",
    "        # appending the found outlier indices for col to the list of outlier indices \n",
    "        outlier_indices.extend(outlier_list_col)\n",
    "        \n",
    "    # selecting observations containing more than 2 outliers\n",
    "    outlier_indices = Counter(outlier_indices)        \n",
    "    multiple_outliers = list( k for k, v in outlier_indices.items() if v > n )\n",
    "    \n",
    "    return multiple_outliers   \n",
    "\n",
    "# detecting outliers\n",
    "Outliers_IQR = detect_outliers(df,2,['V1', 'V2', 'V3', 'V4', 'V5', 'V6', 'V7', 'V8', 'V9', 'V10', 'V11',\n",
    "       'V12', 'V13', 'V14', 'V15', 'V16', 'V17', 'V18', 'V19', 'V20', 'V21',\n",
    "       'V22', 'V23', 'V24', 'V25', 'V26', 'V27', 'V28', 'Amount'])\n",
    "\n",
    "# dropping outliers\n",
    "df_out = df.drop(Outliers_IQR, axis = 0).reset_index(drop=True)"
   ]
  },
  {
   "cell_type": "code",
   "execution_count": 24,
   "id": "9ece6539",
   "metadata": {},
   "outputs": [
    {
     "data": {
      "text/plain": [
       "47116"
      ]
     },
     "execution_count": 24,
     "metadata": {},
     "output_type": "execute_result"
    }
   ],
   "source": [
    "len(Outliers_IQR)"
   ]
  },
  {
   "cell_type": "code",
   "execution_count": 25,
   "id": "176bf449",
   "metadata": {},
   "outputs": [
    {
     "data": {
      "text/html": [
       "<div>\n",
       "<style scoped>\n",
       "    .dataframe tbody tr th:only-of-type {\n",
       "        vertical-align: middle;\n",
       "    }\n",
       "\n",
       "    .dataframe tbody tr th {\n",
       "        vertical-align: top;\n",
       "    }\n",
       "\n",
       "    .dataframe thead th {\n",
       "        text-align: right;\n",
       "    }\n",
       "</style>\n",
       "<table border=\"1\" class=\"dataframe\">\n",
       "  <thead>\n",
       "    <tr style=\"text-align: right;\">\n",
       "      <th></th>\n",
       "      <th>V1</th>\n",
       "      <th>V2</th>\n",
       "      <th>V3</th>\n",
       "      <th>V4</th>\n",
       "      <th>V5</th>\n",
       "      <th>V6</th>\n",
       "      <th>V7</th>\n",
       "      <th>V8</th>\n",
       "      <th>V9</th>\n",
       "      <th>V10</th>\n",
       "      <th>...</th>\n",
       "      <th>V21</th>\n",
       "      <th>V22</th>\n",
       "      <th>V23</th>\n",
       "      <th>V24</th>\n",
       "      <th>V25</th>\n",
       "      <th>V26</th>\n",
       "      <th>V27</th>\n",
       "      <th>V28</th>\n",
       "      <th>Amount</th>\n",
       "      <th>Class</th>\n",
       "    </tr>\n",
       "  </thead>\n",
       "  <tbody>\n",
       "    <tr>\n",
       "      <th>0</th>\n",
       "      <td>-1.359807</td>\n",
       "      <td>-0.072781</td>\n",
       "      <td>2.536347</td>\n",
       "      <td>1.378155</td>\n",
       "      <td>-0.338321</td>\n",
       "      <td>0.462388</td>\n",
       "      <td>0.239599</td>\n",
       "      <td>0.098698</td>\n",
       "      <td>0.363787</td>\n",
       "      <td>0.090794</td>\n",
       "      <td>...</td>\n",
       "      <td>-0.018307</td>\n",
       "      <td>0.277838</td>\n",
       "      <td>-0.110474</td>\n",
       "      <td>0.066928</td>\n",
       "      <td>0.128539</td>\n",
       "      <td>-0.189115</td>\n",
       "      <td>0.133558</td>\n",
       "      <td>-0.021053</td>\n",
       "      <td>149.62</td>\n",
       "      <td>0</td>\n",
       "    </tr>\n",
       "    <tr>\n",
       "      <th>1</th>\n",
       "      <td>1.191857</td>\n",
       "      <td>0.266151</td>\n",
       "      <td>0.166480</td>\n",
       "      <td>0.448154</td>\n",
       "      <td>0.060018</td>\n",
       "      <td>-0.082361</td>\n",
       "      <td>-0.078803</td>\n",
       "      <td>0.085102</td>\n",
       "      <td>-0.255425</td>\n",
       "      <td>-0.166974</td>\n",
       "      <td>...</td>\n",
       "      <td>-0.225775</td>\n",
       "      <td>-0.638672</td>\n",
       "      <td>0.101288</td>\n",
       "      <td>-0.339846</td>\n",
       "      <td>0.167170</td>\n",
       "      <td>0.125895</td>\n",
       "      <td>-0.008983</td>\n",
       "      <td>0.014724</td>\n",
       "      <td>2.69</td>\n",
       "      <td>0</td>\n",
       "    </tr>\n",
       "    <tr>\n",
       "      <th>2</th>\n",
       "      <td>-0.966272</td>\n",
       "      <td>-0.185226</td>\n",
       "      <td>1.792993</td>\n",
       "      <td>-0.863291</td>\n",
       "      <td>-0.010309</td>\n",
       "      <td>1.247203</td>\n",
       "      <td>0.237609</td>\n",
       "      <td>0.377436</td>\n",
       "      <td>-1.387024</td>\n",
       "      <td>-0.054952</td>\n",
       "      <td>...</td>\n",
       "      <td>-0.108300</td>\n",
       "      <td>0.005274</td>\n",
       "      <td>-0.190321</td>\n",
       "      <td>-1.175575</td>\n",
       "      <td>0.647376</td>\n",
       "      <td>-0.221929</td>\n",
       "      <td>0.062723</td>\n",
       "      <td>0.061458</td>\n",
       "      <td>123.50</td>\n",
       "      <td>0</td>\n",
       "    </tr>\n",
       "    <tr>\n",
       "      <th>3</th>\n",
       "      <td>-1.158233</td>\n",
       "      <td>0.877737</td>\n",
       "      <td>1.548718</td>\n",
       "      <td>0.403034</td>\n",
       "      <td>-0.407193</td>\n",
       "      <td>0.095921</td>\n",
       "      <td>0.592941</td>\n",
       "      <td>-0.270533</td>\n",
       "      <td>0.817739</td>\n",
       "      <td>0.753074</td>\n",
       "      <td>...</td>\n",
       "      <td>-0.009431</td>\n",
       "      <td>0.798278</td>\n",
       "      <td>-0.137458</td>\n",
       "      <td>0.141267</td>\n",
       "      <td>-0.206010</td>\n",
       "      <td>0.502292</td>\n",
       "      <td>0.219422</td>\n",
       "      <td>0.215153</td>\n",
       "      <td>69.99</td>\n",
       "      <td>0</td>\n",
       "    </tr>\n",
       "    <tr>\n",
       "      <th>4</th>\n",
       "      <td>-0.425966</td>\n",
       "      <td>0.960523</td>\n",
       "      <td>1.141109</td>\n",
       "      <td>-0.168252</td>\n",
       "      <td>0.420987</td>\n",
       "      <td>-0.029728</td>\n",
       "      <td>0.476201</td>\n",
       "      <td>0.260314</td>\n",
       "      <td>-0.568671</td>\n",
       "      <td>-0.371407</td>\n",
       "      <td>...</td>\n",
       "      <td>-0.208254</td>\n",
       "      <td>-0.559825</td>\n",
       "      <td>-0.026398</td>\n",
       "      <td>-0.371427</td>\n",
       "      <td>-0.232794</td>\n",
       "      <td>0.105915</td>\n",
       "      <td>0.253844</td>\n",
       "      <td>0.081080</td>\n",
       "      <td>3.67</td>\n",
       "      <td>0</td>\n",
       "    </tr>\n",
       "    <tr>\n",
       "      <th>...</th>\n",
       "      <td>...</td>\n",
       "      <td>...</td>\n",
       "      <td>...</td>\n",
       "      <td>...</td>\n",
       "      <td>...</td>\n",
       "      <td>...</td>\n",
       "      <td>...</td>\n",
       "      <td>...</td>\n",
       "      <td>...</td>\n",
       "      <td>...</td>\n",
       "      <td>...</td>\n",
       "      <td>...</td>\n",
       "      <td>...</td>\n",
       "      <td>...</td>\n",
       "      <td>...</td>\n",
       "      <td>...</td>\n",
       "      <td>...</td>\n",
       "      <td>...</td>\n",
       "      <td>...</td>\n",
       "      <td>...</td>\n",
       "      <td>...</td>\n",
       "    </tr>\n",
       "    <tr>\n",
       "      <th>237686</th>\n",
       "      <td>0.120316</td>\n",
       "      <td>0.931005</td>\n",
       "      <td>-0.546012</td>\n",
       "      <td>-0.745097</td>\n",
       "      <td>1.130314</td>\n",
       "      <td>-0.235973</td>\n",
       "      <td>0.812722</td>\n",
       "      <td>0.115093</td>\n",
       "      <td>-0.204064</td>\n",
       "      <td>-0.657422</td>\n",
       "      <td>...</td>\n",
       "      <td>-0.314205</td>\n",
       "      <td>-0.808520</td>\n",
       "      <td>0.050343</td>\n",
       "      <td>0.102800</td>\n",
       "      <td>-0.435870</td>\n",
       "      <td>0.124079</td>\n",
       "      <td>0.217940</td>\n",
       "      <td>0.068803</td>\n",
       "      <td>2.69</td>\n",
       "      <td>0</td>\n",
       "    </tr>\n",
       "    <tr>\n",
       "      <th>237687</th>\n",
       "      <td>-0.732789</td>\n",
       "      <td>-0.055080</td>\n",
       "      <td>2.035030</td>\n",
       "      <td>-0.738589</td>\n",
       "      <td>0.868229</td>\n",
       "      <td>1.058415</td>\n",
       "      <td>0.024330</td>\n",
       "      <td>0.294869</td>\n",
       "      <td>0.584800</td>\n",
       "      <td>-0.975926</td>\n",
       "      <td>...</td>\n",
       "      <td>0.214205</td>\n",
       "      <td>0.924384</td>\n",
       "      <td>0.012463</td>\n",
       "      <td>-1.016226</td>\n",
       "      <td>-0.606624</td>\n",
       "      <td>-0.395255</td>\n",
       "      <td>0.068472</td>\n",
       "      <td>-0.053527</td>\n",
       "      <td>24.79</td>\n",
       "      <td>0</td>\n",
       "    </tr>\n",
       "    <tr>\n",
       "      <th>237688</th>\n",
       "      <td>1.919565</td>\n",
       "      <td>-0.301254</td>\n",
       "      <td>-3.249640</td>\n",
       "      <td>-0.557828</td>\n",
       "      <td>2.630515</td>\n",
       "      <td>3.031260</td>\n",
       "      <td>-0.296827</td>\n",
       "      <td>0.708417</td>\n",
       "      <td>0.432454</td>\n",
       "      <td>-0.484782</td>\n",
       "      <td>...</td>\n",
       "      <td>0.232045</td>\n",
       "      <td>0.578229</td>\n",
       "      <td>-0.037501</td>\n",
       "      <td>0.640134</td>\n",
       "      <td>0.265745</td>\n",
       "      <td>-0.087371</td>\n",
       "      <td>0.004455</td>\n",
       "      <td>-0.026561</td>\n",
       "      <td>67.88</td>\n",
       "      <td>0</td>\n",
       "    </tr>\n",
       "    <tr>\n",
       "      <th>237689</th>\n",
       "      <td>-0.240440</td>\n",
       "      <td>0.530483</td>\n",
       "      <td>0.702510</td>\n",
       "      <td>0.689799</td>\n",
       "      <td>-0.377961</td>\n",
       "      <td>0.623708</td>\n",
       "      <td>-0.686180</td>\n",
       "      <td>0.679145</td>\n",
       "      <td>0.392087</td>\n",
       "      <td>-0.399126</td>\n",
       "      <td>...</td>\n",
       "      <td>0.265245</td>\n",
       "      <td>0.800049</td>\n",
       "      <td>-0.163298</td>\n",
       "      <td>0.123205</td>\n",
       "      <td>-0.569159</td>\n",
       "      <td>0.546668</td>\n",
       "      <td>0.108821</td>\n",
       "      <td>0.104533</td>\n",
       "      <td>10.00</td>\n",
       "      <td>0</td>\n",
       "    </tr>\n",
       "    <tr>\n",
       "      <th>237690</th>\n",
       "      <td>-0.533413</td>\n",
       "      <td>-0.189733</td>\n",
       "      <td>0.703337</td>\n",
       "      <td>-0.506271</td>\n",
       "      <td>-0.012546</td>\n",
       "      <td>-0.649617</td>\n",
       "      <td>1.577006</td>\n",
       "      <td>-0.414650</td>\n",
       "      <td>0.486180</td>\n",
       "      <td>-0.915427</td>\n",
       "      <td>...</td>\n",
       "      <td>0.261057</td>\n",
       "      <td>0.643078</td>\n",
       "      <td>0.376777</td>\n",
       "      <td>0.008797</td>\n",
       "      <td>-0.473649</td>\n",
       "      <td>-0.818267</td>\n",
       "      <td>-0.002415</td>\n",
       "      <td>0.013649</td>\n",
       "      <td>217.00</td>\n",
       "      <td>0</td>\n",
       "    </tr>\n",
       "  </tbody>\n",
       "</table>\n",
       "<p>237691 rows × 30 columns</p>\n",
       "</div>"
      ],
      "text/plain": [
       "              V1        V2        V3        V4        V5        V6        V7  \\\n",
       "0      -1.359807 -0.072781  2.536347  1.378155 -0.338321  0.462388  0.239599   \n",
       "1       1.191857  0.266151  0.166480  0.448154  0.060018 -0.082361 -0.078803   \n",
       "2      -0.966272 -0.185226  1.792993 -0.863291 -0.010309  1.247203  0.237609   \n",
       "3      -1.158233  0.877737  1.548718  0.403034 -0.407193  0.095921  0.592941   \n",
       "4      -0.425966  0.960523  1.141109 -0.168252  0.420987 -0.029728  0.476201   \n",
       "...          ...       ...       ...       ...       ...       ...       ...   \n",
       "237686  0.120316  0.931005 -0.546012 -0.745097  1.130314 -0.235973  0.812722   \n",
       "237687 -0.732789 -0.055080  2.035030 -0.738589  0.868229  1.058415  0.024330   \n",
       "237688  1.919565 -0.301254 -3.249640 -0.557828  2.630515  3.031260 -0.296827   \n",
       "237689 -0.240440  0.530483  0.702510  0.689799 -0.377961  0.623708 -0.686180   \n",
       "237690 -0.533413 -0.189733  0.703337 -0.506271 -0.012546 -0.649617  1.577006   \n",
       "\n",
       "              V8        V9       V10  ...       V21       V22       V23  \\\n",
       "0       0.098698  0.363787  0.090794  ... -0.018307  0.277838 -0.110474   \n",
       "1       0.085102 -0.255425 -0.166974  ... -0.225775 -0.638672  0.101288   \n",
       "2       0.377436 -1.387024 -0.054952  ... -0.108300  0.005274 -0.190321   \n",
       "3      -0.270533  0.817739  0.753074  ... -0.009431  0.798278 -0.137458   \n",
       "4       0.260314 -0.568671 -0.371407  ... -0.208254 -0.559825 -0.026398   \n",
       "...          ...       ...       ...  ...       ...       ...       ...   \n",
       "237686  0.115093 -0.204064 -0.657422  ... -0.314205 -0.808520  0.050343   \n",
       "237687  0.294869  0.584800 -0.975926  ...  0.214205  0.924384  0.012463   \n",
       "237688  0.708417  0.432454 -0.484782  ...  0.232045  0.578229 -0.037501   \n",
       "237689  0.679145  0.392087 -0.399126  ...  0.265245  0.800049 -0.163298   \n",
       "237690 -0.414650  0.486180 -0.915427  ...  0.261057  0.643078  0.376777   \n",
       "\n",
       "             V24       V25       V26       V27       V28  Amount  Class  \n",
       "0       0.066928  0.128539 -0.189115  0.133558 -0.021053  149.62      0  \n",
       "1      -0.339846  0.167170  0.125895 -0.008983  0.014724    2.69      0  \n",
       "2      -1.175575  0.647376 -0.221929  0.062723  0.061458  123.50      0  \n",
       "3       0.141267 -0.206010  0.502292  0.219422  0.215153   69.99      0  \n",
       "4      -0.371427 -0.232794  0.105915  0.253844  0.081080    3.67      0  \n",
       "...          ...       ...       ...       ...       ...     ...    ...  \n",
       "237686  0.102800 -0.435870  0.124079  0.217940  0.068803    2.69      0  \n",
       "237687 -1.016226 -0.606624 -0.395255  0.068472 -0.053527   24.79      0  \n",
       "237688  0.640134  0.265745 -0.087371  0.004455 -0.026561   67.88      0  \n",
       "237689  0.123205 -0.569159  0.546668  0.108821  0.104533   10.00      0  \n",
       "237690  0.008797 -0.473649 -0.818267 -0.002415  0.013649  217.00      0  \n",
       "\n",
       "[237691 rows x 30 columns]"
      ]
     },
     "execution_count": 25,
     "metadata": {},
     "output_type": "execute_result"
    }
   ],
   "source": [
    "df_out"
   ]
  },
  {
   "cell_type": "code",
   "execution_count": 26,
   "id": "3ae9f6d3",
   "metadata": {},
   "outputs": [
    {
     "data": {
      "image/png": "[encoded data removed]",
      "text/plain": [
       "<Figure size 936x576 with 9 Axes>"
      ]
     },
     "metadata": {
      "needs_background": "light"
     },
     "output_type": "display_data"
    }
   ],
   "source": [
    "# Checking distributions of most important features after dropping outliers\n",
    "\n",
    "fig, axes = plt.subplots(nrows=3, ncols=3,figsize=(13,8))\n",
    "\n",
    "axes[0,0].hist(df_out['V17'], bins=60, linewidth=0.5, edgecolor=\"white\")\n",
    "axes[0,0].set_title(\"V17 distribution\");\n",
    "\n",
    "axes[0,1].hist(df_out['V10'], bins=60, linewidth=0.5, edgecolor=\"white\")\n",
    "axes[0,1].set_title(\"V10 distribution\");\n",
    "\n",
    "axes[0,2].hist(df_out['V12'], bins=60, linewidth=0.5, edgecolor=\"white\")\n",
    "axes[0,2].set_title(\"V12 distribution\");\n",
    "\n",
    "axes[1,0].hist(df_out['V16'], bins=60, linewidth=0.5, edgecolor=\"white\")\n",
    "axes[1,0].set_title(\"V16 distribution\");\n",
    "\n",
    "axes[1,1].hist(df_out['V14'], bins=60, linewidth=0.5, edgecolor=\"white\")\n",
    "axes[1,1].set_title(\"V14 distribution\");\n",
    "\n",
    "axes[1,2].hist(df_out['V3'], bins=60, linewidth=0.5, edgecolor=\"white\")\n",
    "axes[1,2].set_title(\"V3 distribution\");\n",
    "\n",
    "axes[2,0].hist(df_out['V7'], bins=60, linewidth=0.5, edgecolor=\"white\")\n",
    "axes[2,0].set_title(\"V7 distribution\");\n",
    "\n",
    "axes[2,1].hist(df_out['V11'], bins=60, linewidth=0.5, edgecolor=\"white\")\n",
    "axes[2,1].set_title(\"V11 distribution\");\n",
    "\n",
    "axes[2,2].hist(df_out['V4'], bins=60, linewidth=0.5, edgecolor=\"white\")\n",
    "axes[2,2].set_title(\"V4 distribution\");\n",
    "\n",
    "plt.tight_layout()"
   ]
  },
  {
   "cell_type": "markdown",
   "id": "9cacad10",
   "metadata": {},
   "source": [
    "Now features look much more \"normal\"!"
   ]
  },
  {
   "cell_type": "code",
   "execution_count": 27,
   "id": "f847c1b1",
   "metadata": {},
   "outputs": [],
   "source": [
    "# Let's check if we didn't drop too many important information accidentally"
   ]
  },
  {
   "cell_type": "code",
   "execution_count": 28,
   "id": "212eb38e",
   "metadata": {},
   "outputs": [
    {
     "name": "stdout",
     "output_type": "stream",
     "text": [
      "The amount of frauds in df before dropping outliers:  492\n"
     ]
    }
   ],
   "source": [
    "print ('The amount of frauds in df before dropping outliers: ', len(df[df['Class'] == 1]))"
   ]
  },
  {
   "cell_type": "code",
   "execution_count": 29,
   "id": "ad01cbfb",
   "metadata": {},
   "outputs": [
    {
     "name": "stdout",
     "output_type": "stream",
     "text": [
      "The amount of frauds in df afret dropping outliers:  43\n"
     ]
    }
   ],
   "source": [
    "print ('The amount of frauds in df afret dropping outliers: ', len(df_out[df_out['Class'] == 1]))"
   ]
  },
  {
   "cell_type": "markdown",
   "id": "49845dd8",
   "metadata": {},
   "source": [
    "It looks like outliers are very similar to fraud values and we dropped most of them!\n",
    "\n",
    "Let's create a new df with dropped outliers only."
   ]
  },
  {
   "cell_type": "code",
   "execution_count": 30,
   "id": "990b7ffb",
   "metadata": {},
   "outputs": [],
   "source": [
    "Outliers_df2 = df.loc[df.index[Outliers_IQR]]"
   ]
  },
  {
   "cell_type": "code",
   "execution_count": 31,
   "id": "c00d5a6b",
   "metadata": {},
   "outputs": [
    {
     "data": {
      "text/plain": [
       "47116"
      ]
     },
     "execution_count": 31,
     "metadata": {},
     "output_type": "execute_result"
    }
   ],
   "source": [
    "len(Outliers_df2)"
   ]
  },
  {
   "cell_type": "code",
   "execution_count": 32,
   "id": "07d79041",
   "metadata": {},
   "outputs": [
    {
     "data": {
      "text/html": [
       "<div>\n",
       "<style scoped>\n",
       "    .dataframe tbody tr th:only-of-type {\n",
       "        vertical-align: middle;\n",
       "    }\n",
       "\n",
       "    .dataframe tbody tr th {\n",
       "        vertical-align: top;\n",
       "    }\n",
       "\n",
       "    .dataframe thead th {\n",
       "        text-align: right;\n",
       "    }\n",
       "</style>\n",
       "<table border=\"1\" class=\"dataframe\">\n",
       "  <thead>\n",
       "    <tr style=\"text-align: right;\">\n",
       "      <th></th>\n",
       "      <th>V1</th>\n",
       "      <th>V2</th>\n",
       "      <th>V3</th>\n",
       "      <th>V4</th>\n",
       "      <th>V5</th>\n",
       "      <th>V6</th>\n",
       "      <th>V7</th>\n",
       "      <th>V8</th>\n",
       "      <th>V9</th>\n",
       "      <th>V10</th>\n",
       "      <th>...</th>\n",
       "      <th>V21</th>\n",
       "      <th>V22</th>\n",
       "      <th>V23</th>\n",
       "      <th>V24</th>\n",
       "      <th>V25</th>\n",
       "      <th>V26</th>\n",
       "      <th>V27</th>\n",
       "      <th>V28</th>\n",
       "      <th>Amount</th>\n",
       "      <th>Class</th>\n",
       "    </tr>\n",
       "  </thead>\n",
       "  <tbody>\n",
       "    <tr>\n",
       "      <th>18</th>\n",
       "      <td>-5.401258</td>\n",
       "      <td>-5.450148</td>\n",
       "      <td>1.186305</td>\n",
       "      <td>1.736239</td>\n",
       "      <td>3.049106</td>\n",
       "      <td>-1.763406</td>\n",
       "      <td>-1.559738</td>\n",
       "      <td>0.160842</td>\n",
       "      <td>1.233090</td>\n",
       "      <td>0.345173</td>\n",
       "      <td>...</td>\n",
       "      <td>-0.503600</td>\n",
       "      <td>0.984460</td>\n",
       "      <td>2.458589</td>\n",
       "      <td>0.042119</td>\n",
       "      <td>-0.481631</td>\n",
       "      <td>-0.621272</td>\n",
       "      <td>0.392053</td>\n",
       "      <td>0.949594</td>\n",
       "      <td>46.80</td>\n",
       "      <td>0</td>\n",
       "    </tr>\n",
       "    <tr>\n",
       "      <th>85</th>\n",
       "      <td>-4.575093</td>\n",
       "      <td>-4.429184</td>\n",
       "      <td>3.402585</td>\n",
       "      <td>0.903915</td>\n",
       "      <td>3.002224</td>\n",
       "      <td>-0.491078</td>\n",
       "      <td>-2.705393</td>\n",
       "      <td>0.666451</td>\n",
       "      <td>1.922216</td>\n",
       "      <td>-0.614312</td>\n",
       "      <td>...</td>\n",
       "      <td>-0.047365</td>\n",
       "      <td>0.853360</td>\n",
       "      <td>-0.971600</td>\n",
       "      <td>-0.114862</td>\n",
       "      <td>0.408300</td>\n",
       "      <td>-0.304576</td>\n",
       "      <td>0.547785</td>\n",
       "      <td>-0.456297</td>\n",
       "      <td>200.01</td>\n",
       "      <td>0</td>\n",
       "    </tr>\n",
       "    <tr>\n",
       "      <th>140</th>\n",
       "      <td>-5.101877</td>\n",
       "      <td>1.897022</td>\n",
       "      <td>-3.458034</td>\n",
       "      <td>-1.277543</td>\n",
       "      <td>-5.517758</td>\n",
       "      <td>2.098366</td>\n",
       "      <td>3.329603</td>\n",
       "      <td>1.250966</td>\n",
       "      <td>0.271501</td>\n",
       "      <td>-0.305483</td>\n",
       "      <td>...</td>\n",
       "      <td>-0.871744</td>\n",
       "      <td>-0.678879</td>\n",
       "      <td>-0.555900</td>\n",
       "      <td>-0.761660</td>\n",
       "      <td>0.066611</td>\n",
       "      <td>0.767227</td>\n",
       "      <td>0.731634</td>\n",
       "      <td>-0.860310</td>\n",
       "      <td>919.60</td>\n",
       "      <td>0</td>\n",
       "    </tr>\n",
       "    <tr>\n",
       "      <th>146</th>\n",
       "      <td>-5.285971</td>\n",
       "      <td>4.847323</td>\n",
       "      <td>-1.290368</td>\n",
       "      <td>-1.427842</td>\n",
       "      <td>-0.621533</td>\n",
       "      <td>-0.604691</td>\n",
       "      <td>0.437866</td>\n",
       "      <td>0.336384</td>\n",
       "      <td>3.558373</td>\n",
       "      <td>6.427802</td>\n",
       "      <td>...</td>\n",
       "      <td>-0.923604</td>\n",
       "      <td>-1.171187</td>\n",
       "      <td>0.150872</td>\n",
       "      <td>-0.493322</td>\n",
       "      <td>1.050554</td>\n",
       "      <td>0.194865</td>\n",
       "      <td>2.490503</td>\n",
       "      <td>1.575380</td>\n",
       "      <td>8.95</td>\n",
       "      <td>0</td>\n",
       "    </tr>\n",
       "    <tr>\n",
       "      <th>164</th>\n",
       "      <td>-6.093248</td>\n",
       "      <td>-12.114213</td>\n",
       "      <td>-5.694973</td>\n",
       "      <td>3.294389</td>\n",
       "      <td>-1.413792</td>\n",
       "      <td>4.776000</td>\n",
       "      <td>4.808426</td>\n",
       "      <td>-0.228197</td>\n",
       "      <td>-0.525896</td>\n",
       "      <td>-1.724899</td>\n",
       "      <td>...</td>\n",
       "      <td>2.228823</td>\n",
       "      <td>-2.264037</td>\n",
       "      <td>-3.553381</td>\n",
       "      <td>1.215279</td>\n",
       "      <td>-0.406073</td>\n",
       "      <td>-0.653384</td>\n",
       "      <td>-0.711222</td>\n",
       "      <td>0.672900</td>\n",
       "      <td>3828.04</td>\n",
       "      <td>0</td>\n",
       "    </tr>\n",
       "    <tr>\n",
       "      <th>...</th>\n",
       "      <td>...</td>\n",
       "      <td>...</td>\n",
       "      <td>...</td>\n",
       "      <td>...</td>\n",
       "      <td>...</td>\n",
       "      <td>...</td>\n",
       "      <td>...</td>\n",
       "      <td>...</td>\n",
       "      <td>...</td>\n",
       "      <td>...</td>\n",
       "      <td>...</td>\n",
       "      <td>...</td>\n",
       "      <td>...</td>\n",
       "      <td>...</td>\n",
       "      <td>...</td>\n",
       "      <td>...</td>\n",
       "      <td>...</td>\n",
       "      <td>...</td>\n",
       "      <td>...</td>\n",
       "      <td>...</td>\n",
       "      <td>...</td>\n",
       "    </tr>\n",
       "    <tr>\n",
       "      <th>275573</th>\n",
       "      <td>-2.796570</td>\n",
       "      <td>-1.602426</td>\n",
       "      <td>0.553124</td>\n",
       "      <td>-0.972816</td>\n",
       "      <td>-0.090899</td>\n",
       "      <td>0.423694</td>\n",
       "      <td>0.037604</td>\n",
       "      <td>0.500683</td>\n",
       "      <td>-1.163213</td>\n",
       "      <td>-0.218494</td>\n",
       "      <td>...</td>\n",
       "      <td>-0.766574</td>\n",
       "      <td>-1.794549</td>\n",
       "      <td>-0.536869</td>\n",
       "      <td>0.233628</td>\n",
       "      <td>0.208626</td>\n",
       "      <td>-0.435249</td>\n",
       "      <td>0.509353</td>\n",
       "      <td>-0.512349</td>\n",
       "      <td>283.20</td>\n",
       "      <td>0</td>\n",
       "    </tr>\n",
       "    <tr>\n",
       "      <th>277296</th>\n",
       "      <td>-0.514141</td>\n",
       "      <td>0.949264</td>\n",
       "      <td>-1.164256</td>\n",
       "      <td>-0.687624</td>\n",
       "      <td>0.784550</td>\n",
       "      <td>1.162172</td>\n",
       "      <td>1.753924</td>\n",
       "      <td>-0.052698</td>\n",
       "      <td>0.015033</td>\n",
       "      <td>-0.785415</td>\n",
       "      <td>...</td>\n",
       "      <td>-0.209018</td>\n",
       "      <td>-0.107877</td>\n",
       "      <td>0.148562</td>\n",
       "      <td>-0.421933</td>\n",
       "      <td>-0.589293</td>\n",
       "      <td>0.238553</td>\n",
       "      <td>-0.676694</td>\n",
       "      <td>-0.584556</td>\n",
       "      <td>195.40</td>\n",
       "      <td>0</td>\n",
       "    </tr>\n",
       "    <tr>\n",
       "      <th>277581</th>\n",
       "      <td>-0.112954</td>\n",
       "      <td>0.944074</td>\n",
       "      <td>-2.352370</td>\n",
       "      <td>0.944593</td>\n",
       "      <td>0.767084</td>\n",
       "      <td>-0.491613</td>\n",
       "      <td>1.898752</td>\n",
       "      <td>0.062521</td>\n",
       "      <td>-1.224329</td>\n",
       "      <td>0.218670</td>\n",
       "      <td>...</td>\n",
       "      <td>0.714246</td>\n",
       "      <td>1.895837</td>\n",
       "      <td>0.441559</td>\n",
       "      <td>0.729273</td>\n",
       "      <td>-1.048663</td>\n",
       "      <td>-0.415093</td>\n",
       "      <td>0.407531</td>\n",
       "      <td>0.354169</td>\n",
       "      <td>197.72</td>\n",
       "      <td>0</td>\n",
       "    </tr>\n",
       "    <tr>\n",
       "      <th>280989</th>\n",
       "      <td>-0.303032</td>\n",
       "      <td>0.515443</td>\n",
       "      <td>-2.395964</td>\n",
       "      <td>-0.052680</td>\n",
       "      <td>0.454179</td>\n",
       "      <td>-1.607054</td>\n",
       "      <td>2.039611</td>\n",
       "      <td>-0.188682</td>\n",
       "      <td>-0.446324</td>\n",
       "      <td>-0.439347</td>\n",
       "      <td>...</td>\n",
       "      <td>0.671690</td>\n",
       "      <td>1.721186</td>\n",
       "      <td>0.444797</td>\n",
       "      <td>-0.004811</td>\n",
       "      <td>-1.012256</td>\n",
       "      <td>-0.141775</td>\n",
       "      <td>0.369032</td>\n",
       "      <td>0.314705</td>\n",
       "      <td>214.20</td>\n",
       "      <td>0</td>\n",
       "    </tr>\n",
       "    <tr>\n",
       "      <th>281871</th>\n",
       "      <td>-2.487876</td>\n",
       "      <td>-0.180996</td>\n",
       "      <td>-2.784969</td>\n",
       "      <td>1.148349</td>\n",
       "      <td>0.433573</td>\n",
       "      <td>0.130086</td>\n",
       "      <td>1.745867</td>\n",
       "      <td>0.350981</td>\n",
       "      <td>-0.985010</td>\n",
       "      <td>0.102361</td>\n",
       "      <td>...</td>\n",
       "      <td>0.143515</td>\n",
       "      <td>0.863195</td>\n",
       "      <td>-0.285355</td>\n",
       "      <td>-1.274126</td>\n",
       "      <td>-0.101933</td>\n",
       "      <td>-0.299882</td>\n",
       "      <td>0.724915</td>\n",
       "      <td>-0.444371</td>\n",
       "      <td>280.00</td>\n",
       "      <td>0</td>\n",
       "    </tr>\n",
       "  </tbody>\n",
       "</table>\n",
       "<p>47116 rows × 30 columns</p>\n",
       "</div>"
      ],
      "text/plain": [
       "              V1         V2        V3        V4        V5        V6        V7  \\\n",
       "18     -5.401258  -5.450148  1.186305  1.736239  3.049106 -1.763406 -1.559738   \n",
       "85     -4.575093  -4.429184  3.402585  0.903915  3.002224 -0.491078 -2.705393   \n",
       "140    -5.101877   1.897022 -3.458034 -1.277543 -5.517758  2.098366  3.329603   \n",
       "146    -5.285971   4.847323 -1.290368 -1.427842 -0.621533 -0.604691  0.437866   \n",
       "164    -6.093248 -12.114213 -5.694973  3.294389 -1.413792  4.776000  4.808426   \n",
       "...          ...        ...       ...       ...       ...       ...       ...   \n",
       "275573 -2.796570  -1.602426  0.553124 -0.972816 -0.090899  0.423694  0.037604   \n",
       "277296 -0.514141   0.949264 -1.164256 -0.687624  0.784550  1.162172  1.753924   \n",
       "277581 -0.112954   0.944074 -2.352370  0.944593  0.767084 -0.491613  1.898752   \n",
       "280989 -0.303032   0.515443 -2.395964 -0.052680  0.454179 -1.607054  2.039611   \n",
       "281871 -2.487876  -0.180996 -2.784969  1.148349  0.433573  0.130086  1.745867   \n",
       "\n",
       "              V8        V9       V10  ...       V21       V22       V23  \\\n",
       "18      0.160842  1.233090  0.345173  ... -0.503600  0.984460  2.458589   \n",
       "85      0.666451  1.922216 -0.614312  ... -0.047365  0.853360 -0.971600   \n",
       "140     1.250966  0.271501 -0.305483  ... -0.871744 -0.678879 -0.555900   \n",
       "146     0.336384  3.558373  6.427802  ... -0.923604 -1.171187  0.150872   \n",
       "164    -0.228197 -0.525896 -1.724899  ...  2.228823 -2.264037 -3.553381   \n",
       "...          ...       ...       ...  ...       ...       ...       ...   \n",
       "275573  0.500683 -1.163213 -0.218494  ... -0.766574 -1.794549 -0.536869   \n",
       "277296 -0.052698  0.015033 -0.785415  ... -0.209018 -0.107877  0.148562   \n",
       "277581  0.062521 -1.224329  0.218670  ...  0.714246  1.895837  0.441559   \n",
       "280989 -0.188682 -0.446324 -0.439347  ...  0.671690  1.721186  0.444797   \n",
       "281871  0.350981 -0.985010  0.102361  ...  0.143515  0.863195 -0.285355   \n",
       "\n",
       "             V24       V25       V26       V27       V28   Amount  Class  \n",
       "18      0.042119 -0.481631 -0.621272  0.392053  0.949594    46.80      0  \n",
       "85     -0.114862  0.408300 -0.304576  0.547785 -0.456297   200.01      0  \n",
       "140    -0.761660  0.066611  0.767227  0.731634 -0.860310   919.60      0  \n",
       "146    -0.493322  1.050554  0.194865  2.490503  1.575380     8.95      0  \n",
       "164     1.215279 -0.406073 -0.653384 -0.711222  0.672900  3828.04      0  \n",
       "...          ...       ...       ...       ...       ...      ...    ...  \n",
       "275573  0.233628  0.208626 -0.435249  0.509353 -0.512349   283.20      0  \n",
       "277296 -0.421933 -0.589293  0.238553 -0.676694 -0.584556   195.40      0  \n",
       "277581  0.729273 -1.048663 -0.415093  0.407531  0.354169   197.72      0  \n",
       "280989 -0.004811 -1.012256 -0.141775  0.369032  0.314705   214.20      0  \n",
       "281871 -1.274126 -0.101933 -0.299882  0.724915 -0.444371   280.00      0  \n",
       "\n",
       "[47116 rows x 30 columns]"
      ]
     },
     "execution_count": 32,
     "metadata": {},
     "output_type": "execute_result"
    }
   ],
   "source": [
    "Outliers_df2"
   ]
  },
  {
   "cell_type": "markdown",
   "id": "7f595ac1",
   "metadata": {},
   "source": [
    "# 5. Modelling"
   ]
  },
  {
   "cell_type": "markdown",
   "id": "03bfd9d7",
   "metadata": {},
   "source": [
    "## 1st data frame"
   ]
  },
  {
   "cell_type": "code",
   "execution_count": 34,
   "id": "a7ee4d64",
   "metadata": {},
   "outputs": [],
   "source": [
    "# Train/Test split\n",
    "\n",
    "X = Outliers_df2.drop('Class',axis=1).values\n",
    "y = Outliers_df2['Class'].values\n",
    "\n",
    "from sklearn.model_selection import train_test_split\n",
    "X_train, X_test, y_train, y_test = train_test_split(X,y,test_size=0.25,random_state=42)"
   ]
  },
  {
   "cell_type": "code",
   "execution_count": 35,
   "id": "aa712b26",
   "metadata": {},
   "outputs": [
    {
     "data": {
      "text/plain": [
       "MinMaxScaler()"
      ]
     },
     "execution_count": 35,
     "metadata": {},
     "output_type": "execute_result"
    }
   ],
   "source": [
    "# Scaling data\n",
    "\n",
    "from sklearn.preprocessing import MinMaxScaler\n",
    "scaler = MinMaxScaler()\n",
    "scaler.fit(X_train)"
   ]
  },
  {
   "cell_type": "code",
   "execution_count": 36,
   "id": "1345912b",
   "metadata": {},
   "outputs": [],
   "source": [
    "X_train = scaler.transform(X_train)\n",
    "X_test = scaler.transform(X_test)"
   ]
  },
  {
   "cell_type": "code",
   "execution_count": 37,
   "id": "a121e339",
   "metadata": {},
   "outputs": [],
   "source": [
    "import tensorflow as tf\n",
    "from tensorflow.keras.models import Sequential\n",
    "from tensorflow.keras.layers import Dense, Activation, Dropout"
   ]
  },
  {
   "cell_type": "code",
   "execution_count": 38,
   "id": "6786ff32",
   "metadata": {},
   "outputs": [
    {
     "data": {
      "text/plain": [
       "(35337, 29)"
      ]
     },
     "execution_count": 38,
     "metadata": {},
     "output_type": "execute_result"
    }
   ],
   "source": [
    "X_train.shape"
   ]
  },
  {
   "cell_type": "code",
   "execution_count": 39,
   "id": "2e88493f",
   "metadata": {},
   "outputs": [],
   "source": [
    "model = Sequential()\n",
    "\n",
    "# https://stats.stackexchange.com/questions/181/how-to-choose-the-number-of-hidden-layers-and-nodes-in-a-feedforward-neural-netw\n",
    "\n",
    "model.add(Dense(units=29,activation='relu'))\n",
    "model.add(Dropout(0.3))\n",
    "\n",
    "model.add(Dense(units=14,activation='relu'))\n",
    "model.add(Dropout(0.1))\n",
    "\n",
    "model.add(Dense(units=7,activation='relu'))\n",
    "#model.add(Dropout(0.1))\n",
    "\n",
    "model.add(Dense(units=2,activation='relu'))\n",
    "\n",
    "model.add(Dense(units=1,activation='sigmoid'))\n",
    "\n",
    "# For a binary classification problem\n",
    "model.compile(loss='binary_crossentropy', optimizer='adam')"
   ]
  },
  {
   "cell_type": "code",
   "execution_count": 40,
   "id": "5cfd8d78",
   "metadata": {},
   "outputs": [],
   "source": [
    "from tensorflow.keras.callbacks import EarlyStopping\n",
    "early_stop = EarlyStopping(monitor='val_loss', mode='min', verbose=2, patience=35)"
   ]
  },
  {
   "cell_type": "code",
   "execution_count": 41,
   "id": "b00171bb",
   "metadata": {},
   "outputs": [
    {
     "name": "stdout",
     "output_type": "stream",
     "text": [
      "Epoch 1/3000\n",
      "1105/1105 - 2s - loss: 0.0833 - val_loss: 0.0386 - 2s/epoch - 2ms/step\n",
      "Epoch 2/3000\n",
      "1105/1105 - 1s - loss: 0.0317 - val_loss: 0.0176 - 1s/epoch - 951us/step\n",
      "Epoch 3/3000\n",
      "1105/1105 - 1s - loss: 0.0205 - val_loss: 0.0141 - 1s/epoch - 924us/step\n",
      "Epoch 4/3000\n",
      "1105/1105 - 1s - loss: 0.0181 - val_loss: 0.0137 - 1s/epoch - 946us/step\n",
      "Epoch 5/3000\n",
      "1105/1105 - 1s - loss: 0.0164 - val_loss: 0.0129 - 1s/epoch - 935us/step\n",
      "Epoch 6/3000\n",
      "1105/1105 - 1s - loss: 0.0163 - val_loss: 0.0133 - 1s/epoch - 931us/step\n",
      "Epoch 7/3000\n",
      "1105/1105 - 1s - loss: 0.0155 - val_loss: 0.0133 - 1s/epoch - 970us/step\n",
      "Epoch 8/3000\n",
      "1105/1105 - 1s - loss: 0.0149 - val_loss: 0.0116 - 1s/epoch - 954us/step\n",
      "Epoch 9/3000\n",
      "1105/1105 - 1s - loss: 0.0145 - val_loss: 0.0135 - 1s/epoch - 1ms/step\n",
      "Epoch 10/3000\n",
      "1105/1105 - 1s - loss: 0.0142 - val_loss: 0.0116 - 1s/epoch - 1ms/step\n",
      "Epoch 11/3000\n",
      "1105/1105 - 1s - loss: 0.0142 - val_loss: 0.0109 - 1s/epoch - 1ms/step\n",
      "Epoch 12/3000\n",
      "1105/1105 - 1s - loss: 0.0138 - val_loss: 0.0124 - 1s/epoch - 961us/step\n",
      "Epoch 13/3000\n",
      "1105/1105 - 1s - loss: 0.0142 - val_loss: 0.0109 - 1s/epoch - 947us/step\n",
      "Epoch 14/3000\n",
      "1105/1105 - 1s - loss: 0.0143 - val_loss: 0.0107 - 1s/epoch - 971us/step\n",
      "Epoch 15/3000\n",
      "1105/1105 - 1s - loss: 0.0136 - val_loss: 0.0123 - 1s/epoch - 962us/step\n",
      "Epoch 16/3000\n",
      "1105/1105 - 1s - loss: 0.0132 - val_loss: 0.0118 - 1s/epoch - 938us/step\n",
      "Epoch 17/3000\n",
      "1105/1105 - 1s - loss: 0.0142 - val_loss: 0.0116 - 1s/epoch - 994us/step\n",
      "Epoch 18/3000\n",
      "1105/1105 - 1s - loss: 0.0142 - val_loss: 0.0114 - 1s/epoch - 1ms/step\n",
      "Epoch 19/3000\n",
      "1105/1105 - 1s - loss: 0.0134 - val_loss: 0.0129 - 1s/epoch - 1ms/step\n",
      "Epoch 20/3000\n",
      "1105/1105 - 1s - loss: 0.0132 - val_loss: 0.0110 - 1s/epoch - 1ms/step\n",
      "Epoch 21/3000\n",
      "1105/1105 - 1s - loss: 0.0129 - val_loss: 0.0111 - 1s/epoch - 948us/step\n",
      "Epoch 22/3000\n",
      "1105/1105 - 1s - loss: 0.0131 - val_loss: 0.0110 - 1s/epoch - 962us/step\n",
      "Epoch 23/3000\n",
      "1105/1105 - 1s - loss: 0.0132 - val_loss: 0.0107 - 1s/epoch - 959us/step\n",
      "Epoch 24/3000\n",
      "1105/1105 - 1s - loss: 0.0132 - val_loss: 0.0110 - 1s/epoch - 970us/step\n",
      "Epoch 25/3000\n",
      "1105/1105 - 1s - loss: 0.0132 - val_loss: 0.0106 - 1s/epoch - 1ms/step\n",
      "Epoch 26/3000\n",
      "1105/1105 - 1s - loss: 0.0126 - val_loss: 0.0115 - 1s/epoch - 995us/step\n",
      "Epoch 27/3000\n",
      "1105/1105 - 1s - loss: 0.0125 - val_loss: 0.0137 - 1s/epoch - 945us/step\n",
      "Epoch 28/3000\n",
      "1105/1105 - 1s - loss: 0.0128 - val_loss: 0.0105 - 1s/epoch - 1ms/step\n",
      "Epoch 29/3000\n",
      "1105/1105 - 1s - loss: 0.0128 - val_loss: 0.0113 - 1s/epoch - 969us/step\n",
      "Epoch 30/3000\n",
      "1105/1105 - 1s - loss: 0.0126 - val_loss: 0.0103 - 1s/epoch - 936us/step\n",
      "Epoch 31/3000\n",
      "1105/1105 - 1s - loss: 0.0127 - val_loss: 0.0108 - 1s/epoch - 963us/step\n",
      "Epoch 32/3000\n",
      "1105/1105 - 1s - loss: 0.0127 - val_loss: 0.0112 - 1s/epoch - 980us/step\n",
      "Epoch 33/3000\n",
      "1105/1105 - 1s - loss: 0.0124 - val_loss: 0.0127 - 1s/epoch - 931us/step\n",
      "Epoch 34/3000\n",
      "1105/1105 - 1s - loss: 0.0127 - val_loss: 0.0104 - 1s/epoch - 950us/step\n",
      "Epoch 35/3000\n",
      "1105/1105 - 1s - loss: 0.0123 - val_loss: 0.0113 - 1s/epoch - 949us/step\n",
      "Epoch 36/3000\n",
      "1105/1105 - 1s - loss: 0.0128 - val_loss: 0.0130 - 1s/epoch - 923us/step\n",
      "Epoch 37/3000\n",
      "1105/1105 - 1s - loss: 0.0129 - val_loss: 0.0108 - 1s/epoch - 929us/step\n",
      "Epoch 38/3000\n",
      "1105/1105 - 1s - loss: 0.0123 - val_loss: 0.0108 - 1s/epoch - 963us/step\n",
      "Epoch 39/3000\n",
      "1105/1105 - 1s - loss: 0.0125 - val_loss: 0.0152 - 1s/epoch - 1ms/step\n",
      "Epoch 40/3000\n",
      "1105/1105 - 1s - loss: 0.0129 - val_loss: 0.0109 - 1s/epoch - 966us/step\n",
      "Epoch 41/3000\n",
      "1105/1105 - 1s - loss: 0.0122 - val_loss: 0.0123 - 1s/epoch - 936us/step\n",
      "Epoch 42/3000\n",
      "1105/1105 - 1s - loss: 0.0129 - val_loss: 0.0106 - 1s/epoch - 991us/step\n",
      "Epoch 43/3000\n",
      "1105/1105 - 1s - loss: 0.0124 - val_loss: 0.0155 - 1s/epoch - 940us/step\n",
      "Epoch 44/3000\n",
      "1105/1105 - 1s - loss: 0.0119 - val_loss: 0.0111 - 1s/epoch - 957us/step\n",
      "Epoch 45/3000\n",
      "1105/1105 - 1s - loss: 0.0125 - val_loss: 0.0113 - 1s/epoch - 960us/step\n",
      "Epoch 46/3000\n",
      "1105/1105 - 1s - loss: 0.0125 - val_loss: 0.0107 - 1s/epoch - 945us/step\n",
      "Epoch 47/3000\n",
      "1105/1105 - 1s - loss: 0.0120 - val_loss: 0.0105 - 1s/epoch - 951us/step\n",
      "Epoch 48/3000\n",
      "1105/1105 - 1s - loss: 0.0126 - val_loss: 0.0106 - 1s/epoch - 941us/step\n",
      "Epoch 49/3000\n",
      "1105/1105 - 1s - loss: 0.0124 - val_loss: 0.0109 - 1s/epoch - 952us/step\n",
      "Epoch 50/3000\n",
      "1105/1105 - 1s - loss: 0.0120 - val_loss: 0.0107 - 1s/epoch - 936us/step\n",
      "Epoch 51/3000\n",
      "1105/1105 - 1s - loss: 0.0123 - val_loss: 0.0123 - 1s/epoch - 1ms/step\n",
      "Epoch 52/3000\n",
      "1105/1105 - 1s - loss: 0.0124 - val_loss: 0.0105 - 1s/epoch - 1ms/step\n",
      "Epoch 53/3000\n",
      "1105/1105 - 1s - loss: 0.0127 - val_loss: 0.0110 - 1s/epoch - 952us/step\n",
      "Epoch 54/3000\n",
      "1105/1105 - 1s - loss: 0.0124 - val_loss: 0.0118 - 1s/epoch - 954us/step\n",
      "Epoch 55/3000\n",
      "1105/1105 - 1s - loss: 0.0128 - val_loss: 0.0106 - 1s/epoch - 956us/step\n",
      "Epoch 56/3000\n",
      "1105/1105 - 1s - loss: 0.0124 - val_loss: 0.0103 - 1s/epoch - 991us/step\n",
      "Epoch 57/3000\n",
      "1105/1105 - 1s - loss: 0.0121 - val_loss: 0.0107 - 1s/epoch - 952us/step\n",
      "Epoch 58/3000\n",
      "1105/1105 - 1s - loss: 0.0123 - val_loss: 0.0124 - 1s/epoch - 946us/step\n",
      "Epoch 59/3000\n",
      "1105/1105 - 1s - loss: 0.0124 - val_loss: 0.0105 - 1s/epoch - 957us/step\n",
      "Epoch 60/3000\n",
      "1105/1105 - 1s - loss: 0.0124 - val_loss: 0.0104 - 1s/epoch - 963us/step\n",
      "Epoch 61/3000\n",
      "1105/1105 - 1s - loss: 0.0123 - val_loss: 0.0121 - 1s/epoch - 934us/step\n",
      "Epoch 62/3000\n",
      "1105/1105 - 1s - loss: 0.0124 - val_loss: 0.0104 - 1s/epoch - 1ms/step\n",
      "Epoch 63/3000\n",
      "1105/1105 - 1s - loss: 0.0119 - val_loss: 0.0108 - 1s/epoch - 1ms/step\n",
      "Epoch 64/3000\n",
      "1105/1105 - 1s - loss: 0.0125 - val_loss: 0.0107 - 1s/epoch - 1ms/step\n",
      "Epoch 65/3000\n",
      "1105/1105 - 1s - loss: 0.0123 - val_loss: 0.0101 - 1s/epoch - 950us/step\n",
      "Epoch 66/3000\n",
      "1105/1105 - 1s - loss: 0.0122 - val_loss: 0.0103 - 1s/epoch - 958us/step\n",
      "Epoch 67/3000\n",
      "1105/1105 - 1s - loss: 0.0121 - val_loss: 0.0100 - 1s/epoch - 1ms/step\n",
      "Epoch 68/3000\n",
      "1105/1105 - 2s - loss: 0.0122 - val_loss: 0.0108 - 2s/epoch - 1ms/step\n",
      "Epoch 69/3000\n",
      "1105/1105 - 1s - loss: 0.0125 - val_loss: 0.0108 - 1s/epoch - 1ms/step\n",
      "Epoch 70/3000\n",
      "1105/1105 - 1s - loss: 0.0127 - val_loss: 0.0105 - 1s/epoch - 971us/step\n",
      "Epoch 71/3000\n",
      "1105/1105 - 2s - loss: 0.0124 - val_loss: 0.0105 - 2s/epoch - 1ms/step\n",
      "Epoch 72/3000\n",
      "1105/1105 - 1s - loss: 0.0124 - val_loss: 0.0108 - 1s/epoch - 1ms/step\n",
      "Epoch 73/3000\n",
      "1105/1105 - 1s - loss: 0.0121 - val_loss: 0.0104 - 1s/epoch - 1ms/step\n",
      "Epoch 74/3000\n",
      "1105/1105 - 1s - loss: 0.0120 - val_loss: 0.0108 - 1s/epoch - 1ms/step\n",
      "Epoch 75/3000\n",
      "1105/1105 - 3s - loss: 0.0123 - val_loss: 0.0106 - 3s/epoch - 3ms/step\n",
      "Epoch 76/3000\n",
      "1105/1105 - 1s - loss: 0.0122 - val_loss: 0.0112 - 1s/epoch - 1ms/step\n",
      "Epoch 77/3000\n",
      "1105/1105 - 1s - loss: 0.0120 - val_loss: 0.0109 - 1s/epoch - 1ms/step\n",
      "Epoch 78/3000\n",
      "1105/1105 - 1s - loss: 0.0122 - val_loss: 0.0108 - 1s/epoch - 1ms/step\n",
      "Epoch 79/3000\n",
      "1105/1105 - 1s - loss: 0.0121 - val_loss: 0.0102 - 1s/epoch - 1ms/step\n",
      "Epoch 80/3000\n",
      "1105/1105 - 1s - loss: 0.0122 - val_loss: 0.0107 - 1s/epoch - 1ms/step\n",
      "Epoch 81/3000\n",
      "1105/1105 - 1s - loss: 0.0120 - val_loss: 0.0124 - 1s/epoch - 1ms/step\n",
      "Epoch 82/3000\n",
      "1105/1105 - 1s - loss: 0.0116 - val_loss: 0.0105 - 1s/epoch - 1ms/step\n",
      "Epoch 83/3000\n",
      "1105/1105 - 1s - loss: 0.0125 - val_loss: 0.0099 - 1s/epoch - 1ms/step\n",
      "Epoch 84/3000\n",
      "1105/1105 - 1s - loss: 0.0117 - val_loss: 0.0109 - 1s/epoch - 1ms/step\n",
      "Epoch 85/3000\n",
      "1105/1105 - 1s - loss: 0.0121 - val_loss: 0.0116 - 1s/epoch - 1ms/step\n",
      "Epoch 86/3000\n",
      "1105/1105 - 1s - loss: 0.0121 - val_loss: 0.0102 - 1s/epoch - 1ms/step\n",
      "Epoch 87/3000\n",
      "1105/1105 - 1s - loss: 0.0120 - val_loss: 0.0104 - 1s/epoch - 954us/step\n",
      "Epoch 88/3000\n",
      "1105/1105 - 1s - loss: 0.0122 - val_loss: 0.0102 - 1s/epoch - 1ms/step\n",
      "Epoch 89/3000\n",
      "1105/1105 - 1s - loss: 0.0121 - val_loss: 0.0114 - 1s/epoch - 1ms/step\n",
      "Epoch 90/3000\n",
      "1105/1105 - 1s - loss: 0.0118 - val_loss: 0.0103 - 1s/epoch - 1ms/step\n",
      "Epoch 91/3000\n",
      "1105/1105 - 1s - loss: 0.0123 - val_loss: 0.0112 - 1s/epoch - 1ms/step\n",
      "Epoch 92/3000\n",
      "1105/1105 - 1s - loss: 0.0122 - val_loss: 0.0106 - 1s/epoch - 1ms/step\n",
      "Epoch 93/3000\n",
      "1105/1105 - 1s - loss: 0.0123 - val_loss: 0.0122 - 1s/epoch - 1ms/step\n",
      "Epoch 94/3000\n",
      "1105/1105 - 1s - loss: 0.0119 - val_loss: 0.0102 - 1s/epoch - 962us/step\n",
      "Epoch 95/3000\n",
      "1105/1105 - 1s - loss: 0.0121 - val_loss: 0.0105 - 1s/epoch - 974us/step\n",
      "Epoch 96/3000\n",
      "1105/1105 - 1s - loss: 0.0123 - val_loss: 0.0104 - 1s/epoch - 959us/step\n"
     ]
    },
    {
     "name": "stdout",
     "output_type": "stream",
     "text": [
      "Epoch 97/3000\n",
      "1105/1105 - 1s - loss: 0.0122 - val_loss: 0.0114 - 1s/epoch - 974us/step\n",
      "Epoch 98/3000\n",
      "1105/1105 - 2s - loss: 0.0120 - val_loss: 0.0105 - 2s/epoch - 1ms/step\n",
      "Epoch 99/3000\n",
      "1105/1105 - 2s - loss: 0.0118 - val_loss: 0.0108 - 2s/epoch - 2ms/step\n",
      "Epoch 100/3000\n",
      "1105/1105 - 2s - loss: 0.0121 - val_loss: 0.0114 - 2s/epoch - 2ms/step\n",
      "Epoch 101/3000\n",
      "1105/1105 - 2s - loss: 0.0123 - val_loss: 0.0124 - 2s/epoch - 2ms/step\n",
      "Epoch 102/3000\n",
      "1105/1105 - 2s - loss: 0.0120 - val_loss: 0.0105 - 2s/epoch - 1ms/step\n",
      "Epoch 103/3000\n",
      "1105/1105 - 1s - loss: 0.0117 - val_loss: 0.0103 - 1s/epoch - 1ms/step\n",
      "Epoch 104/3000\n",
      "1105/1105 - 1s - loss: 0.0114 - val_loss: 0.0104 - 1s/epoch - 1ms/step\n",
      "Epoch 105/3000\n",
      "1105/1105 - 1s - loss: 0.0121 - val_loss: 0.0106 - 1s/epoch - 1ms/step\n",
      "Epoch 106/3000\n",
      "1105/1105 - 1s - loss: 0.0121 - val_loss: 0.0101 - 1s/epoch - 1ms/step\n",
      "Epoch 107/3000\n",
      "1105/1105 - 1s - loss: 0.0123 - val_loss: 0.0108 - 1s/epoch - 1ms/step\n",
      "Epoch 108/3000\n",
      "1105/1105 - 1s - loss: 0.0118 - val_loss: 0.0107 - 1s/epoch - 1ms/step\n",
      "Epoch 109/3000\n",
      "1105/1105 - 1s - loss: 0.0120 - val_loss: 0.0112 - 1s/epoch - 1ms/step\n",
      "Epoch 110/3000\n",
      "1105/1105 - 2s - loss: 0.0116 - val_loss: 0.0116 - 2s/epoch - 1ms/step\n",
      "Epoch 111/3000\n",
      "1105/1105 - 1s - loss: 0.0119 - val_loss: 0.0104 - 1s/epoch - 1ms/step\n",
      "Epoch 112/3000\n",
      "1105/1105 - 1s - loss: 0.0118 - val_loss: 0.0104 - 1s/epoch - 1ms/step\n",
      "Epoch 113/3000\n",
      "1105/1105 - 1s - loss: 0.0116 - val_loss: 0.0105 - 1s/epoch - 1ms/step\n",
      "Epoch 114/3000\n",
      "1105/1105 - 1s - loss: 0.0123 - val_loss: 0.0103 - 1s/epoch - 1ms/step\n",
      "Epoch 115/3000\n",
      "1105/1105 - 1s - loss: 0.0117 - val_loss: 0.0103 - 1s/epoch - 1ms/step\n",
      "Epoch 116/3000\n",
      "1105/1105 - 1s - loss: 0.0120 - val_loss: 0.0101 - 1s/epoch - 1ms/step\n",
      "Epoch 117/3000\n",
      "1105/1105 - 1s - loss: 0.0116 - val_loss: 0.0103 - 1s/epoch - 995us/step\n",
      "Epoch 118/3000\n",
      "1105/1105 - 1s - loss: 0.0119 - val_loss: 0.0114 - 1s/epoch - 973us/step\n",
      "Epoch 118: early stopping\n"
     ]
    },
    {
     "data": {
      "text/plain": [
       "<keras.callbacks.History at 0x1f47372fb50>"
      ]
     },
     "execution_count": 41,
     "metadata": {},
     "output_type": "execute_result"
    }
   ],
   "source": [
    "model.fit(x=X_train, \n",
    "          y=y_train, \n",
    "          epochs=3000,\n",
    "          validation_data=(X_test, y_test), verbose=2,\n",
    "          callbacks=[early_stop]\n",
    "          )"
   ]
  },
  {
   "cell_type": "code",
   "execution_count": 42,
   "id": "b4f32307",
   "metadata": {},
   "outputs": [
    {
     "data": {
      "text/plain": [
       "<AxesSubplot:>"
      ]
     },
     "execution_count": 42,
     "metadata": {},
     "output_type": "execute_result"
    },
    {
     "data": {
      "image/png": "[encoded data removed]",
      "text/plain": [
       "<Figure size 432x288 with 1 Axes>"
      ]
     },
     "metadata": {
      "needs_background": "light"
     },
     "output_type": "display_data"
    }
   ],
   "source": [
    "model_loss = pd.DataFrame(model.history.history)\n",
    "model_loss.plot()"
   ]
  },
  {
   "cell_type": "code",
   "execution_count": 43,
   "id": "ff587a30",
   "metadata": {},
   "outputs": [
    {
     "name": "stdout",
     "output_type": "stream",
     "text": [
      "369/369 [==============================] - 0s 568us/step\n"
     ]
    }
   ],
   "source": [
    "predictions = (model.predict(X_test) > 0.5)*1"
   ]
  },
  {
   "cell_type": "code",
   "execution_count": 44,
   "id": "c62e305d",
   "metadata": {},
   "outputs": [],
   "source": [
    "from sklearn.metrics import classification_report,confusion_matrix"
   ]
  },
  {
   "cell_type": "code",
   "execution_count": 45,
   "id": "2e751d22",
   "metadata": {},
   "outputs": [
    {
     "name": "stdout",
     "output_type": "stream",
     "text": [
      "              precision    recall  f1-score   support\n",
      "\n",
      "           0       1.00      1.00      1.00     11668\n",
      "           1       0.84      0.86      0.85       111\n",
      "\n",
      "    accuracy                           1.00     11779\n",
      "   macro avg       0.92      0.93      0.92     11779\n",
      "weighted avg       1.00      1.00      1.00     11779\n",
      "\n"
     ]
    }
   ],
   "source": [
    "# https://en.wikipedia.org/wiki/Precision_and_recall\n",
    "print(classification_report(y_test,predictions))"
   ]
  },
  {
   "cell_type": "code",
   "execution_count": 46,
   "id": "b907e645",
   "metadata": {},
   "outputs": [
    {
     "name": "stdout",
     "output_type": "stream",
     "text": [
      "[[11650    18]\n",
      " [   16    95]]\n"
     ]
    }
   ],
   "source": [
    "print(confusion_matrix(y_test,predictions))"
   ]
  },
  {
   "cell_type": "code",
   "execution_count": 47,
   "id": "f77cad57",
   "metadata": {},
   "outputs": [
    {
     "data": {
      "text/html": [
       "<div>\n",
       "<style scoped>\n",
       "    .dataframe tbody tr th:only-of-type {\n",
       "        vertical-align: middle;\n",
       "    }\n",
       "\n",
       "    .dataframe tbody tr th {\n",
       "        vertical-align: top;\n",
       "    }\n",
       "\n",
       "    .dataframe thead th {\n",
       "        text-align: right;\n",
       "    }\n",
       "</style>\n",
       "<table border=\"1\" class=\"dataframe\">\n",
       "  <thead>\n",
       "    <tr style=\"text-align: right;\">\n",
       "      <th></th>\n",
       "      <th>Predicted 0</th>\n",
       "      <th>Predicted 1</th>\n",
       "    </tr>\n",
       "  </thead>\n",
       "  <tbody>\n",
       "    <tr>\n",
       "      <th>Actual 0</th>\n",
       "      <td>11650</td>\n",
       "      <td>18</td>\n",
       "    </tr>\n",
       "    <tr>\n",
       "      <th>Actual 1</th>\n",
       "      <td>16</td>\n",
       "      <td>95</td>\n",
       "    </tr>\n",
       "  </tbody>\n",
       "</table>\n",
       "</div>"
      ],
      "text/plain": [
       "          Predicted 0  Predicted 1\n",
       "Actual 0        11650           18\n",
       "Actual 1           16           95"
      ]
     },
     "execution_count": 47,
     "metadata": {},
     "output_type": "execute_result"
    }
   ],
   "source": [
    "cm_df = pd.DataFrame(confusion_matrix(y_test,predictions))\n",
    "cm_df.columns = ['Predicted 0','Predicted 1']\n",
    "cm_df = cm_df.rename(index={0: 'Actual 0',1:'Actual 1'})\n",
    "cm_df"
   ]
  },
  {
   "cell_type": "code",
   "execution_count": 48,
   "id": "8c8ff1f8",
   "metadata": {},
   "outputs": [],
   "source": [
    "from sklearn.metrics import f1_score"
   ]
  },
  {
   "cell_type": "code",
   "execution_count": 49,
   "id": "d0430b3f",
   "metadata": {},
   "outputs": [
    {
     "name": "stdout",
     "output_type": "stream",
     "text": [
      "0.8482142857142857\n"
     ]
    }
   ],
   "source": [
    "f1 = f1_score(y_test, predictions)\n",
    "print (f1)"
   ]
  },
  {
   "cell_type": "code",
   "execution_count": 50,
   "id": "abb30b70",
   "metadata": {},
   "outputs": [],
   "source": [
    "CM = confusion_matrix(y_test,predictions)\n",
    "\n",
    "TN = CM[0][0]\n",
    "FN = CM[1][0]\n",
    "TP = CM[1][1]\n",
    "FP = CM[0][1]"
   ]
  },
  {
   "cell_type": "code",
   "execution_count": 51,
   "id": "032bbe9c",
   "metadata": {},
   "outputs": [],
   "source": [
    "# Sensitivity, hit rate, recall, or true positive rate\n",
    "TPR = TP/(TP+FN)\n",
    "# Specificity or true negative rate\n",
    "TNR = TN/(TN+FP) \n",
    "# Precision or positive predictive value\n",
    "PPV = TP/(TP+FP)\n",
    "# Negative predictive value\n",
    "NPV = TN/(TN+FN)\n",
    "# Fall out or false positive rate\n",
    "FPR = FP/(FP+TN)\n",
    "# False negative rate\n",
    "FNR = FN/(TP+FN)\n",
    "# False discovery rate\n",
    "FDR = FP/(TP+FP)\n",
    "\n",
    "# Overall accuracy\n",
    "ACC = (TP+TN)/(TP+FP+FN+TN)"
   ]
  },
  {
   "cell_type": "code",
   "execution_count": 52,
   "id": "9e8ee30d",
   "metadata": {},
   "outputs": [
    {
     "data": {
      "text/plain": [
       "0.997113507088887"
      ]
     },
     "execution_count": 52,
     "metadata": {},
     "output_type": "execute_result"
    }
   ],
   "source": [
    "ACC"
   ]
  },
  {
   "cell_type": "markdown",
   "id": "f1c618f3",
   "metadata": {},
   "source": [
    "## 2nd data frame"
   ]
  },
  {
   "cell_type": "code",
   "execution_count": 53,
   "id": "b0e37583",
   "metadata": {},
   "outputs": [],
   "source": [
    "# Train/Test split\n",
    "\n",
    "X = df_out.drop('Class',axis=1).values\n",
    "y = df_out['Class'].values\n",
    "\n",
    "from sklearn.model_selection import train_test_split\n",
    "X_train, X_test, y_train, y_test = train_test_split(X,y,test_size=0.25,random_state=42)"
   ]
  },
  {
   "cell_type": "code",
   "execution_count": 54,
   "id": "4e4c57b3",
   "metadata": {},
   "outputs": [],
   "source": [
    "X_train = scaler.transform(X_train)\n",
    "X_test = scaler.transform(X_test)"
   ]
  },
  {
   "cell_type": "code",
   "execution_count": 55,
   "id": "e81ad87f",
   "metadata": {},
   "outputs": [
    {
     "data": {
      "text/plain": [
       "(178268, 29)"
      ]
     },
     "execution_count": 55,
     "metadata": {},
     "output_type": "execute_result"
    }
   ],
   "source": [
    "X_train.shape"
   ]
  },
  {
   "cell_type": "code",
   "execution_count": 56,
   "id": "ef062441",
   "metadata": {},
   "outputs": [],
   "source": [
    "model = Sequential()\n",
    "\n",
    "# https://stats.stackexchange.com/questions/181/how-to-choose-the-number-of-hidden-layers-and-nodes-in-a-feedforward-neural-netw\n",
    "\n",
    "model.add(Dense(units=29,activation='relu'))\n",
    "model.add(Dropout(0.3))\n",
    "\n",
    "model.add(Dense(units=14,activation='relu'))\n",
    "model.add(Dropout(0.1))\n",
    "\n",
    "model.add(Dense(units=7,activation='relu'))\n",
    "#model.add(Dropout(0.1))\n",
    "\n",
    "model.add(Dense(units=2,activation='relu'))\n",
    "\n",
    "model.add(Dense(units=1,activation='sigmoid'))\n",
    "\n",
    "# For a binary classification problem\n",
    "model.compile(loss='binary_crossentropy', optimizer='adam')"
   ]
  },
  {
   "cell_type": "code",
   "execution_count": 57,
   "id": "2d5038ff",
   "metadata": {},
   "outputs": [],
   "source": [
    "from tensorflow.keras.callbacks import EarlyStopping\n",
    "early_stop = EarlyStopping(monitor='val_loss', mode='min', verbose=2, patience=35)"
   ]
  },
  {
   "cell_type": "code",
   "execution_count": 58,
   "id": "3f223604",
   "metadata": {},
   "outputs": [
    {
     "name": "stdout",
     "output_type": "stream",
     "text": [
      "Epoch 1/3000\n",
      "5571/5571 - 6s - loss: 0.0053 - val_loss: 0.0029 - 6s/epoch - 1ms/step\n",
      "Epoch 2/3000\n",
      "5571/5571 - 6s - loss: 0.0022 - val_loss: 0.0027 - 6s/epoch - 1ms/step\n",
      "Epoch 3/3000\n",
      "5571/5571 - 5s - loss: 0.0019 - val_loss: 0.0025 - 5s/epoch - 908us/step\n",
      "Epoch 4/3000\n",
      "5571/5571 - 5s - loss: 0.0017 - val_loss: 0.0025 - 5s/epoch - 953us/step\n",
      "Epoch 5/3000\n",
      "5571/5571 - 6s - loss: 0.0018 - val_loss: 0.0033 - 6s/epoch - 1ms/step\n",
      "Epoch 6/3000\n",
      "5571/5571 - 5s - loss: 0.0019 - val_loss: 0.0028 - 5s/epoch - 964us/step\n",
      "Epoch 7/3000\n",
      "5571/5571 - 5s - loss: 0.0017 - val_loss: 0.0025 - 5s/epoch - 960us/step\n",
      "Epoch 8/3000\n",
      "5571/5571 - 5s - loss: 0.0018 - val_loss: 0.0028 - 5s/epoch - 966us/step\n",
      "Epoch 9/3000\n",
      "5571/5571 - 5s - loss: 0.0016 - val_loss: 0.0024 - 5s/epoch - 930us/step\n",
      "Epoch 10/3000\n",
      "5571/5571 - 5s - loss: 0.0017 - val_loss: 0.0025 - 5s/epoch - 915us/step\n",
      "Epoch 11/3000\n",
      "5571/5571 - 5s - loss: 0.0016 - val_loss: 0.0025 - 5s/epoch - 912us/step\n",
      "Epoch 12/3000\n",
      "5571/5571 - 5s - loss: 0.0016 - val_loss: 0.0025 - 5s/epoch - 940us/step\n",
      "Epoch 13/3000\n",
      "5571/5571 - 5s - loss: 0.0016 - val_loss: 0.0025 - 5s/epoch - 904us/step\n",
      "Epoch 14/3000\n",
      "5571/5571 - 5s - loss: 0.0017 - val_loss: 0.0028 - 5s/epoch - 902us/step\n",
      "Epoch 15/3000\n",
      "5571/5571 - 5s - loss: 0.0016 - val_loss: 0.0025 - 5s/epoch - 947us/step\n",
      "Epoch 16/3000\n",
      "5571/5571 - 5s - loss: 0.0016 - val_loss: 0.0026 - 5s/epoch - 951us/step\n",
      "Epoch 17/3000\n",
      "5571/5571 - 5s - loss: 0.0016 - val_loss: 0.0028 - 5s/epoch - 918us/step\n",
      "Epoch 18/3000\n",
      "5571/5571 - 5s - loss: 0.0016 - val_loss: 0.0025 - 5s/epoch - 929us/step\n",
      "Epoch 19/3000\n",
      "5571/5571 - 5s - loss: 0.0016 - val_loss: 0.0025 - 5s/epoch - 925us/step\n",
      "Epoch 20/3000\n",
      "5571/5571 - 5s - loss: 0.0016 - val_loss: 0.0026 - 5s/epoch - 911us/step\n",
      "Epoch 21/3000\n",
      "5571/5571 - 5s - loss: 0.0015 - val_loss: 0.0031 - 5s/epoch - 925us/step\n",
      "Epoch 22/3000\n",
      "5571/5571 - 5s - loss: 0.0017 - val_loss: 0.0025 - 5s/epoch - 931us/step\n",
      "Epoch 23/3000\n",
      "5571/5571 - 5s - loss: 0.0015 - val_loss: 0.0026 - 5s/epoch - 961us/step\n",
      "Epoch 24/3000\n",
      "5571/5571 - 5s - loss: 0.0016 - val_loss: 0.0031 - 5s/epoch - 964us/step\n",
      "Epoch 25/3000\n",
      "5571/5571 - 5s - loss: 0.0016 - val_loss: 0.0025 - 5s/epoch - 920us/step\n",
      "Epoch 26/3000\n",
      "5571/5571 - 5s - loss: 0.0016 - val_loss: 0.0025 - 5s/epoch - 915us/step\n",
      "Epoch 27/3000\n",
      "5571/5571 - 5s - loss: 0.0015 - val_loss: 0.0030 - 5s/epoch - 930us/step\n",
      "Epoch 28/3000\n",
      "5571/5571 - 5s - loss: 0.0015 - val_loss: 0.0025 - 5s/epoch - 932us/step\n",
      "Epoch 29/3000\n",
      "5571/5571 - 5s - loss: 0.0015 - val_loss: 0.0025 - 5s/epoch - 969us/step\n",
      "Epoch 30/3000\n",
      "5571/5571 - 5s - loss: 0.0015 - val_loss: 0.0025 - 5s/epoch - 963us/step\n",
      "Epoch 31/3000\n",
      "5571/5571 - 5s - loss: 0.0015 - val_loss: 0.0025 - 5s/epoch - 932us/step\n",
      "Epoch 32/3000\n",
      "5571/5571 - 5s - loss: 0.0015 - val_loss: 0.0026 - 5s/epoch - 940us/step\n",
      "Epoch 33/3000\n",
      "5571/5571 - 5s - loss: 0.0016 - val_loss: 0.0025 - 5s/epoch - 945us/step\n",
      "Epoch 34/3000\n",
      "5571/5571 - 5s - loss: 0.0015 - val_loss: 0.0026 - 5s/epoch - 957us/step\n",
      "Epoch 35/3000\n",
      "5571/5571 - 5s - loss: 0.0015 - val_loss: 0.0027 - 5s/epoch - 942us/step\n",
      "Epoch 36/3000\n",
      "5571/5571 - 5s - loss: 0.0015 - val_loss: 0.0025 - 5s/epoch - 906us/step\n",
      "Epoch 37/3000\n",
      "5571/5571 - 5s - loss: 0.0016 - val_loss: 0.0027 - 5s/epoch - 947us/step\n",
      "Epoch 38/3000\n",
      "5571/5571 - 5s - loss: 0.0015 - val_loss: 0.0025 - 5s/epoch - 959us/step\n",
      "Epoch 39/3000\n",
      "5571/5571 - 5s - loss: 0.0015 - val_loss: 0.0025 - 5s/epoch - 963us/step\n",
      "Epoch 40/3000\n",
      "5571/5571 - 6s - loss: 0.0015 - val_loss: 0.0026 - 6s/epoch - 1ms/step\n",
      "Epoch 41/3000\n",
      "5571/5571 - 6s - loss: 0.0015 - val_loss: 0.0026 - 6s/epoch - 1ms/step\n",
      "Epoch 42/3000\n",
      "5571/5571 - 5s - loss: 0.0016 - val_loss: 0.0025 - 5s/epoch - 971us/step\n",
      "Epoch 43/3000\n",
      "5571/5571 - 5s - loss: 0.0015 - val_loss: 0.0025 - 5s/epoch - 941us/step\n",
      "Epoch 44/3000\n",
      "5571/5571 - 6s - loss: 0.0015 - val_loss: 0.0025 - 6s/epoch - 1ms/step\n",
      "Epoch 44: early stopping\n"
     ]
    },
    {
     "data": {
      "text/plain": [
       "<keras.callbacks.History at 0x1f476059e20>"
      ]
     },
     "execution_count": 58,
     "metadata": {},
     "output_type": "execute_result"
    }
   ],
   "source": [
    "model.fit(x=X_train, \n",
    "          y=y_train, \n",
    "          epochs=3000,\n",
    "          validation_data=(X_test, y_test), verbose=2,\n",
    "          callbacks=[early_stop]\n",
    "          )"
   ]
  },
  {
   "cell_type": "code",
   "execution_count": 59,
   "id": "74e60fb3",
   "metadata": {},
   "outputs": [
    {
     "data": {
      "text/plain": [
       "<AxesSubplot:>"
      ]
     },
     "execution_count": 59,
     "metadata": {},
     "output_type": "execute_result"
    },
    {
     "data": {
      "image/png": "[encoded data removed]",
      "text/plain": [
       "<Figure size 432x288 with 1 Axes>"
      ]
     },
     "metadata": {
      "needs_background": "light"
     },
     "output_type": "display_data"
    }
   ],
   "source": [
    "model_loss = pd.DataFrame(model.history.history)\n",
    "model_loss.plot()"
   ]
  },
  {
   "cell_type": "code",
   "execution_count": 60,
   "id": "40d25d43",
   "metadata": {},
   "outputs": [
    {
     "name": "stdout",
     "output_type": "stream",
     "text": [
      "1857/1857 [==============================] - 2s 859us/step\n"
     ]
    }
   ],
   "source": [
    "predictions_2nd = (model.predict(X_test) > 0.5)*1"
   ]
  },
  {
   "cell_type": "code",
   "execution_count": 61,
   "id": "50cad1e3",
   "metadata": {},
   "outputs": [
    {
     "name": "stdout",
     "output_type": "stream",
     "text": [
      "              precision    recall  f1-score   support\n",
      "\n",
      "           0       1.00      1.00      1.00     59407\n",
      "           1       0.00      0.00      0.00        16\n",
      "\n",
      "    accuracy                           1.00     59423\n",
      "   macro avg       0.50      0.50      0.50     59423\n",
      "weighted avg       1.00      1.00      1.00     59423\n",
      "\n"
     ]
    }
   ],
   "source": [
    "# https://en.wikipedia.org/wiki/Precision_and_recall\n",
    "print(classification_report(y_test,predictions_2nd))"
   ]
  },
  {
   "cell_type": "code",
   "execution_count": 62,
   "id": "5da3d302",
   "metadata": {},
   "outputs": [
    {
     "name": "stdout",
     "output_type": "stream",
     "text": [
      "[[59407     0]\n",
      " [   16     0]]\n"
     ]
    }
   ],
   "source": [
    "print(confusion_matrix(y_test,predictions_2nd))"
   ]
  },
  {
   "cell_type": "code",
   "execution_count": 63,
   "id": "73cdc612",
   "metadata": {},
   "outputs": [
    {
     "data": {
      "text/html": [
       "<div>\n",
       "<style scoped>\n",
       "    .dataframe tbody tr th:only-of-type {\n",
       "        vertical-align: middle;\n",
       "    }\n",
       "\n",
       "    .dataframe tbody tr th {\n",
       "        vertical-align: top;\n",
       "    }\n",
       "\n",
       "    .dataframe thead th {\n",
       "        text-align: right;\n",
       "    }\n",
       "</style>\n",
       "<table border=\"1\" class=\"dataframe\">\n",
       "  <thead>\n",
       "    <tr style=\"text-align: right;\">\n",
       "      <th></th>\n",
       "      <th>Predicted 0</th>\n",
       "      <th>Predicted 1</th>\n",
       "    </tr>\n",
       "  </thead>\n",
       "  <tbody>\n",
       "    <tr>\n",
       "      <th>Actual 0</th>\n",
       "      <td>59407</td>\n",
       "      <td>0</td>\n",
       "    </tr>\n",
       "    <tr>\n",
       "      <th>Actual 1</th>\n",
       "      <td>16</td>\n",
       "      <td>0</td>\n",
       "    </tr>\n",
       "  </tbody>\n",
       "</table>\n",
       "</div>"
      ],
      "text/plain": [
       "          Predicted 0  Predicted 1\n",
       "Actual 0        59407            0\n",
       "Actual 1           16            0"
      ]
     },
     "execution_count": 63,
     "metadata": {},
     "output_type": "execute_result"
    }
   ],
   "source": [
    "cm_df = pd.DataFrame(confusion_matrix(y_test,predictions_2nd))\n",
    "cm_df.columns = ['Predicted 0','Predicted 1']\n",
    "cm_df = cm_df.rename(index={0: 'Actual 0',1:'Actual 1'})\n",
    "cm_df"
   ]
  },
  {
   "cell_type": "code",
   "execution_count": 64,
   "id": "2647440b",
   "metadata": {},
   "outputs": [],
   "source": [
    "CM = confusion_matrix(y_test,predictions_2nd)\n",
    "\n",
    "TN_2nd = CM[0][0]\n",
    "FN_2nd = CM[1][0]\n",
    "TP_2nd = CM[1][1]\n",
    "FP_2nd = CM[0][1]"
   ]
  },
  {
   "cell_type": "code",
   "execution_count": 65,
   "id": "375519ed",
   "metadata": {},
   "outputs": [],
   "source": [
    "# Sensitivity, hit rate, recall, or true positive rate\n",
    "TPR_2nd = TP_2nd/(TP_2nd+FN_2nd)\n",
    "# Specificity or true negative rate\n",
    "TNR_2nd = TN_2nd/(TN_2nd+FP_2nd) \n",
    "# Precision or positive predictive value\n",
    "PPV_2nd = TP_2nd/(TP_2nd+FP_2nd)\n",
    "# Negative predictive value\n",
    "NPV_2nd = TN_2nd/(TN_2nd+FN_2nd)\n",
    "# Fall out or false positive rate\n",
    "FPR_2nd = FP_2nd/(FP_2nd+TN_2nd)\n",
    "# False negative rate\n",
    "FNR_2nd = FN_2nd/(TP_2nd+FN_2nd)\n",
    "# False discovery rate\n",
    "FDR_2nd = FP_2nd/(TP_2nd+FP_2nd)\n",
    "\n",
    "# Overall accuracy\n",
    "ACC_2nd = (TP_2nd+TN_2nd)/(TP_2nd+FP_2nd+FN_2nd+TN_2nd)"
   ]
  },
  {
   "cell_type": "code",
   "execution_count": 66,
   "id": "a22d6ba0",
   "metadata": {},
   "outputs": [
    {
     "data": {
      "text/plain": [
       "0.9997307439880181"
      ]
     },
     "execution_count": 66,
     "metadata": {},
     "output_type": "execute_result"
    }
   ],
   "source": [
    "ACC_2nd"
   ]
  },
  {
   "cell_type": "code",
   "execution_count": 67,
   "id": "c76eb8a3",
   "metadata": {},
   "outputs": [
    {
     "name": "stdout",
     "output_type": "stream",
     "text": [
      "0.0\n"
     ]
    }
   ],
   "source": [
    "f1_2nd = f1_score(y_test, predictions_2nd)\n",
    "print (f1_2nd)"
   ]
  },
  {
   "cell_type": "markdown",
   "id": "486866ee",
   "metadata": {},
   "source": [
    "# 6. Combining results"
   ]
  },
  {
   "cell_type": "code",
   "execution_count": 68,
   "id": "fc014664",
   "metadata": {},
   "outputs": [],
   "source": [
    "# COmbining both confusion matrices\n",
    "\n",
    "TN_final = TN + TN_2nd\n",
    "FN_final = FN + FN_2nd\n",
    "TP_final = TP + TP_2nd\n",
    "FP_final = FP + FP_2nd\n",
    "\n",
    "# Sensitivity, hit rate, recall, or true positive rate\n",
    "TPR_final = TP_final/(TP_final+FN_final)\n",
    "\n",
    "# Precision or positive predictive value\n",
    "PPV_final = TP_final/(TP_final+FP_final)\n",
    "\n",
    "# Overall accuracy\n",
    "ACC_final = (TP_final+TN_final)/(TP_final+FP_final+FN_final+TN_final)\n",
    "\n",
    "F1_score = 2*((PPV_final*TPR_final)/(PPV_final+TPR_final))"
   ]
  },
  {
   "cell_type": "code",
   "execution_count": 69,
   "id": "1a303f20",
   "metadata": {},
   "outputs": [
    {
     "data": {
      "text/html": [
       "<div>\n",
       "<style scoped>\n",
       "    .dataframe tbody tr th:only-of-type {\n",
       "        vertical-align: middle;\n",
       "    }\n",
       "\n",
       "    .dataframe tbody tr th {\n",
       "        vertical-align: top;\n",
       "    }\n",
       "\n",
       "    .dataframe thead th {\n",
       "        text-align: right;\n",
       "    }\n",
       "</style>\n",
       "<table border=\"1\" class=\"dataframe\">\n",
       "  <thead>\n",
       "    <tr style=\"text-align: right;\">\n",
       "      <th></th>\n",
       "      <th>Predicted 0</th>\n",
       "      <th>Predicted 1</th>\n",
       "    </tr>\n",
       "  </thead>\n",
       "  <tbody>\n",
       "    <tr>\n",
       "      <th>Actual 0</th>\n",
       "      <td>71057</td>\n",
       "      <td>18</td>\n",
       "    </tr>\n",
       "    <tr>\n",
       "      <th>Actual 1</th>\n",
       "      <td>32</td>\n",
       "      <td>95</td>\n",
       "    </tr>\n",
       "  </tbody>\n",
       "</table>\n",
       "</div>"
      ],
      "text/plain": [
       "          Predicted 0  Predicted 1\n",
       "Actual 0        71057           18\n",
       "Actual 1           32           95"
      ]
     },
     "execution_count": 69,
     "metadata": {},
     "output_type": "execute_result"
    }
   ],
   "source": [
    "cm_df = pd.DataFrame(np.array([[TN_final, FP_final], [FN_final, TP_final]]), columns=['Predicted 0', 'Predicted 1'])\n",
    "cm_df = cm_df.rename(index={0: 'Actual 0',1:'Actual 1'})\n",
    "\n",
    "cm_df"
   ]
  },
  {
   "cell_type": "markdown",
   "id": "9b8ed78f",
   "metadata": {},
   "source": [
    "Combined confusion matrix"
   ]
  },
  {
   "cell_type": "code",
   "execution_count": 73,
   "id": "04654af3",
   "metadata": {},
   "outputs": [
    {
     "name": "stdout",
     "output_type": "stream",
     "text": [
      "Overall accuracy final score:  0.9992977725344794\n"
     ]
    }
   ],
   "source": [
    "print('Overall accuracy final score: ', ACC_final)"
   ]
  },
  {
   "cell_type": "code",
   "execution_count": 75,
   "id": "1677e8bd",
   "metadata": {},
   "outputs": [
    {
     "name": "stdout",
     "output_type": "stream",
     "text": [
      "Overall F1 final score:  0.7916666666666666\n"
     ]
    }
   ],
   "source": [
    "print('Overall F1 final score: ', F1_score)"
   ]
  },
  {
   "cell_type": "code",
   "execution_count": null,
   "id": "48f7a92e",
   "metadata": {},
   "outputs": [],
   "source": []
  }
 ],
 "metadata": {
  "kernelspec": {
   "display_name": "Python 3 (ipykernel)",
   "language": "python",
   "name": "python3"
  },
  "language_info": {
   "codemirror_mode": {
    "name": "ipython",
    "version": 3
   },
   "file_extension": ".py",
   "mimetype": "text/x-python",
   "name": "python",
   "nbconvert_exporter": "python",
   "pygments_lexer": "ipython3",
   "version": "3.9.12"
  }
 },
 "nbformat": 4,
 "nbformat_minor": 5
}
